{
 "cells": [
  {
   "cell_type": "code",
   "execution_count": 1,
   "outputs": [],
   "source": [
    "import numpy as np"
   ],
   "metadata": {
    "collapsed": false
   }
  },
  {
   "cell_type": "code",
   "execution_count": 73,
   "outputs": [],
   "source": [
    "def step(x, lamb, gradf, hessianf, h, gradh, hessianh, stepsize=1):\n",
    "    \"\"\"\n",
    "    :param x:\n",
    "    :param lamb:\n",
    "    :param gradf:\n",
    "    :param hessianf:\n",
    "    :param h:\n",
    "    :param gradh:\n",
    "    :param hessianh:\n",
    "    :param stepsize:\n",
    "    :return:\n",
    "    \"\"\"\n",
    "\n",
    "    hessianLagrangian = hessianf(x) - lamb*hessianh(x)\n",
    "    gradh = gradh(x).reshape((gradh(x).shape[0],1))\n",
    "\n",
    "\n",
    "    topPart = np.concatenate((hessianLagrangian, -gradh), axis=1)\n",
    "    bottomPart = np.concatenate((-gradh.T, np.zeros((gradh.shape[1], gradh.shape[1]))), axis=1)\n",
    "\n",
    "    mat = np.concatenate((topPart, bottomPart))\n",
    "    rhs = np.concatenate((-gradf(x)-lamb*gradh.T, h(x)), axis=1).reshape((3,1))\n",
    "\n",
    "\n",
    "    res = np.linalg.solve(mat, rhs) #np.linalg.inv(mat) @ rhs\n",
    "\n",
    "    xdir = res[0:len(res)-1].reshape(x.shape)\n",
    "    lambdir = res[-1]\n",
    "    return x + xdir, lamb + lambdir\n"
   ],
   "metadata": {
    "collapsed": false
   }
  },
  {
   "cell_type": "code",
   "execution_count": 23,
   "outputs": [],
   "source": [
    "import math\n",
    "import numpy as np\n",
    "\n",
    "def gradf(x):\n",
    "    return np.array([ 3*(math.e)**(3*x[0]), -4**(x[1])*math.e**(-4*x[1])*math.log(4, math.e)])\n",
    "\n",
    "def gradh(x):\n",
    "    return np.array([2*x[0],2*x[1]])\n",
    "\n",
    "def h(x):\n",
    "    return np.array([x[0]**2 + x[1]**2 - 1]).reshape((1,1))\n",
    "\n",
    "def hessianh(x):\n",
    "    return np.array([2,0,0,2]).reshape(2,2)\n",
    "\n",
    "def hessianf(x):\n",
    "    return np.array([9*math.e**(3*x[0])*math.log(math.e,math.e)**2,0,0,16*math.e**(-4*x[1])]).reshape((2,2))\n"
   ],
   "metadata": {
    "collapsed": false
   }
  },
  {
   "cell_type": "code",
   "execution_count": 58,
   "outputs": [
    {
     "name": "stdout",
     "output_type": "stream",
     "text": [
      "(3, 1) [-0.26825641] (2, 2)\n",
      "xdir [ 0.23174359 -0.26825641]\n",
      "[-0.76825641  0.73174359] [-0.35834444]\n"
     ]
    }
   ],
   "source": [
    "# Try our Step function with the given example\n",
    "\n",
    "x, l = step(np.array([-1, 1]), -1, gradf, hessianf, h, gradh, hessianh)\n",
    "print(x,l)"
   ],
   "metadata": {
    "collapsed": false
   }
  },
  {
   "cell_type": "markdown",
   "source": [],
   "metadata": {
    "collapsed": false
   }
  },
  {
   "cell_type": "code",
   "execution_count": 82,
   "outputs": [],
   "source": [
    "def optimise(x_start, lamb_start, gradf, hessianf, h, gradh, hessianh, steps=100, stepsize=1):\n",
    "    x, lamb = x_start, lamb_start\n",
    "    for i in range(steps):\n",
    "        x, lamb = step(x, lamb, gradf, hessianf, h, gradh, hessianh)\n",
    "    return x"
   ],
   "metadata": {
    "collapsed": false
   }
  },
  {
   "cell_type": "code",
   "execution_count": 84,
   "outputs": [
    {
     "name": "stdout",
     "output_type": "stream",
     "text": [
      "[-0.7379972   0.67480377]\n"
     ]
    }
   ],
   "source": [
    "x = np.array([-1, 1])\n",
    "lamb = -1\n",
    "steps = 1000\n",
    "print(optimise(x, lamb, gradf, hessianf, h, gradh, hessianh, steps))\n"
   ],
   "metadata": {
    "collapsed": false
   }
  },
  {
   "cell_type": "code",
   "execution_count": null,
   "outputs": [],
   "source": [
    "startingPoints = [[[x],[lam]], ]\n",
    "\n",
    "for x,lamb in startingPoints:\n",
    "    print(optimise(x, lamb, gradf, hessianf, h, gradh, hessianh, steps))\n"
   ],
   "metadata": {
    "collapsed": false
   }
  }
 ],
 "metadata": {
  "kernelspec": {
   "display_name": "Python 3",
   "language": "python",
   "name": "python3"
  },
  "language_info": {
   "codemirror_mode": {
    "name": "ipython",
    "version": 2
   },
   "file_extension": ".py",
   "mimetype": "text/x-python",
   "name": "python",
   "nbconvert_exporter": "python",
   "pygments_lexer": "ipython2",
   "version": "2.7.6"
  }
 },
 "nbformat": 4,
 "nbformat_minor": 0
}
