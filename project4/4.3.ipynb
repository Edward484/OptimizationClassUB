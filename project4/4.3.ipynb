{
 "cells": [
  {
   "cell_type": "markdown",
   "metadata": {},
   "source": [
    "### 3"
   ]
  },
  {
   "cell_type": "markdown",
   "metadata": {},
   "source": [
    "Merit function: $ \\mathcal{M}(x_1, x_2) = f(x_1, x_2) + \\rho h (x_1, x_2)^2 =e^{3x_1} + e^{-4x_2} + 10x_1^4 + 10x_2^4+10 + 20x_1^2x_2^2 -20x_1^2 -20x_2^2,  \\ \\rho = 10 \\\\\n",
    "\\nabla \\mathcal{M}(x_1, x_2) =(3e^{3x_1} +40x_1^3 + 40x_2^2x_1 -40x_1, -4e^{-4x_2} +40 x_2^3 +40x_1^2x_2 -40x_2)$\n",
    "\n",
    "$ f(x_1, x_2) = e^{3x_1} + e^{-4x_2} \\\\ \\nabla f(x_1, x_2) = (3e^{3x_1}, -4{-4x_2} )\\\\ \\nabla^2 f(x_1, x_2)=  \\\\ \n",
    "h(x_1, x_2)= x^2_1 + x^2_2 -1 = 0 \\\\ \\nabla n(x_1, x_2)=(2x_1, 2x_2)$"
   ]
  },
  {
   "cell_type": "code",
   "execution_count": 31,
   "metadata": {},
   "outputs": [
    {
     "name": "stdout",
     "output_type": "stream",
     "text": [
      "[-0.74648613  0.66127073]\n"
     ]
    }
   ],
   "source": [
    "import numpy as np\n",
    "import math\n",
    "\n",
    "def grd_M(x):\n",
    "    g= np.array([3*math.e**(3*x[0])+40*x[0]**3+40*x[0]*x[1]**2-40*x[0], -4*math.e**(-4*x[1])+40*x[1]**3+40*x[1]*x[0]**2-40*x[1]])\n",
    "    return g/np.linalg.norm(g)\n",
    "\n",
    "def grad_desc(x,a=0.01):\n",
    "    return x-a*grd_M(x)\n",
    "\n",
    "start = np.array([100, 100])\n",
    "for c in range(100000):\n",
    "    start = grad_desc(start)\n",
    "    c += 1\n",
    "print(start)"
   ]
  }
 ],
 "metadata": {
  "kernelspec": {
   "display_name": "Python 3.8.3 ('base')",
   "language": "python",
   "name": "python3"
  },
  "language_info": {
   "codemirror_mode": {
    "name": "ipython",
    "version": 3
   },
   "file_extension": ".py",
   "mimetype": "text/x-python",
   "name": "python",
   "nbconvert_exporter": "python",
   "pygments_lexer": "ipython3",
   "version": "3.8.3"
  },
  "orig_nbformat": 4,
  "vscode": {
   "interpreter": {
    "hash": "d6130dc0ca154d48d4309febcf6869dce2f08df7913a461d2bad8c19ec3dd616"
   }
  }
 },
 "nbformat": 4,
 "nbformat_minor": 2
}