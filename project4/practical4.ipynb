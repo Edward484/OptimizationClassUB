{
 "cells": [
  {
   "cell_type": "markdown",
   "source": [
    "## Practical 4. Constrained Optimization: Equality Constraints\n",
    "\n",
    "#### Nils Lennier Mattiß, Federica Valeau, Eduard Mihai\n"
   ],
   "metadata": {
    "collapsed": false,
    "pycharm": {
     "name": "#%% md\n"
    }
   }
  },
  {
   "cell_type": "code",
   "execution_count": 11,
   "outputs": [],
   "source": [
    "import numpy as np\n",
    "import math"
   ],
   "metadata": {
    "collapsed": false,
    "pycharm": {
     "name": "#%%\n"
    }
   }
  },
  {
   "cell_type": "code",
   "execution_count": 12,
   "outputs": [],
   "source": [
    "def step(x, lamb, gradf, hessianf, h, gradh, hessianh, stepsize=1):\n",
    "    \"\"\"\n",
    "    all functions should return numpy arrays of a proper size\n",
    "    :param x: np.array of size\n",
    "    :param lamb: np.array of size number of constraints (nc) x 1\n",
    "    :param gradf: callable returning np.array of size number of arguments (na) x 1\n",
    "    :param hessianf: callable returning np.array of size na x na\n",
    "    :param h: callable returning np.array of size nc x 1\n",
    "    :param gradh: np.array of size callable na x nc\n",
    "    :param hessianh: np.array of size callable\n",
    "    :param stepsize: optinial float for the stepsize\n",
    "    :return: x: one step towards optimal solution of quadratic approximation\n",
    "    \"\"\"\n",
    "\n",
    "    hessianLagrangian = hessianf(x) - lamb*hessianh(x)\n",
    "    gradh = gradh(x).reshape((gradh(x).shape[0],1))\n",
    "\n",
    "    topPart = np.concatenate((hessianLagrangian, -gradh), axis=1)\n",
    "    bottomPart = np.concatenate((-gradh.T, np.zeros((gradh.shape[1], gradh.shape[1]))), axis=1)\n",
    "\n",
    "    mat = np.concatenate((topPart, bottomPart))\n",
    "    rhs = np.concatenate((-(gradf(x)-lamb*gradh.T), h(x)), axis=1).reshape((3,1))\n",
    "    try:\n",
    "        res = np.linalg.solve(mat, rhs)\n",
    "\n",
    "        xdir = res[0:len(res)-1].reshape(x.shape)\n",
    "        lambdir = res[-1]\n",
    "        return x + xdir, lamb + lambdir\n",
    "    except:\n",
    "        return x, lamb\n",
    "\n"
   ],
   "metadata": {
    "collapsed": false,
    "pycharm": {
     "name": "#%%\n"
    }
   }
  },
  {
   "cell_type": "markdown",
   "source": [
    "The functions and their derivatives used in the example"
   ],
   "metadata": {
    "collapsed": false,
    "pycharm": {
     "name": "#%% md\n"
    }
   }
  },
  {
   "cell_type": "code",
   "execution_count": 13,
   "outputs": [],
   "source": [
    "def gradf(x):\n",
    "    return np.array([3*math.exp(3*x[0]), -4*math.exp(-4*x[1])])\n",
    "\n",
    "def gradh(x):\n",
    "    return np.array([2*x[0],2*x[1]])\n",
    "\n",
    "def h(x):\n",
    "    return np.array([x[0]**2 + x[1]**2 - 1]).reshape((1,1))\n",
    "\n",
    "def hessianh(x):\n",
    "    return np.array([2,0,0,2]).reshape(2,2)\n",
    "\n",
    "def hessianf(x):\n",
    "    return np.array([9*math.exp(3*x[0]),0,0,16*math.exp(-4*x[1])]).reshape((2,2))\n"
   ],
   "metadata": {
    "collapsed": false,
    "pycharm": {
     "name": "#%%\n"
    }
   }
  },
  {
   "cell_type": "code",
   "execution_count": 14,
   "outputs": [
    {
     "name": "stdout",
     "output_type": "stream",
     "text": [
      "[-0.77422564  0.72577436] [-0.35103786]\n"
     ]
    }
   ],
   "source": [
    "# Try our Step function with the given example\n",
    "\n",
    "x, l = step(np.array([-1, 1]), -1, gradf, hessianf, h, gradh, hessianh)\n",
    "print(x,l)"
   ],
   "metadata": {
    "collapsed": false,
    "pycharm": {
     "name": "#%%\n"
    }
   }
  },
  {
   "cell_type": "markdown",
   "source": [
    "Here we show that the step function works and that it gives correctly the next set of values to be considered"
   ],
   "metadata": {
    "collapsed": false,
    "pycharm": {
     "name": "#%% md\n"
    }
   }
  },
  {
   "cell_type": "markdown",
   "source": [
    "##### Newton Method"
   ],
   "metadata": {
    "collapsed": false,
    "pycharm": {
     "name": "#%% md\n"
    }
   }
  },
  {
   "cell_type": "code",
   "execution_count": 15,
   "outputs": [],
   "source": [
    "def optimise(x_start, lamb_start, gradf, hessianf, h, gradh, hessianh, steps=100, stepsize=1):\n",
    "    x, lamb = x_start, lamb_start\n",
    "    for i in range(steps):\n",
    "        #some error handling to get running code\n",
    "        try:\n",
    "            x, lamb = step(x, lamb, gradf, hessianf, h, gradh, hessianh)\n",
    "        except OverflowError:\n",
    "            break\n",
    "    return x, lamb"
   ],
   "metadata": {
    "collapsed": false,
    "pycharm": {
     "name": "#%%\n"
    }
   }
  },
  {
   "cell_type": "markdown",
   "source": [
    "#### Ex1"
   ],
   "metadata": {
    "collapsed": false,
    "pycharm": {
     "name": "#%% md\n"
    }
   }
  },
  {
   "cell_type": "code",
   "execution_count": 16,
   "outputs": [
    {
     "name": "stdout",
     "output_type": "stream",
     "text": [
      "(array([-0.74833549,  0.66332043]), array([-0.21232494]))\n"
     ]
    }
   ],
   "source": [
    "x = np.array([50, 100])\n",
    "lamb = 5\n",
    "steps = 100\n",
    "print(optimise(x, lamb, gradf, hessianf, h, gradh, hessianh, steps))\n"
   ],
   "metadata": {
    "collapsed": false,
    "pycharm": {
     "name": "#%%\n"
    }
   }
  },
  {
   "cell_type": "markdown",
   "source": [
    "We can see that after 100 steps, by using the starting point given in the example our newton method converges to the solution. $(-0.74833549,  0.66332043)$ it's the solution that our algorithm converged to, which is the correct one, with $\\lambda$ being equal -0.21232494"
   ],
   "metadata": {
    "collapsed": false,
    "pycharm": {
     "name": "#%% md\n"
    }
   }
  },
  {
   "cell_type": "markdown",
   "source": [
    "#### Ex2\n",
    "Furthermore, we will test our solution on more examples to see how it performs. By checking the results of the experiments with the known results we can determine how close the approximation is.\n"
   ],
   "metadata": {
    "collapsed": false,
    "pycharm": {
     "name": "#%% md\n"
    }
   }
  },
  {
   "cell_type": "code",
   "execution_count": 17,
   "outputs": [
    {
     "name": "stdout",
     "output_type": "stream",
     "text": [
      "     failed     .  after 500 iterations we got from [ -0.90927292 -96.70620254] with initial lambda -10 to (array([5115.02628808,  -96.45620254]), array([-57919.01526512]))\n",
      "     failed     .  after 500 iterations we got from [ -0.90927292 -96.70620254] with initial lambda -5 to (array([5115.02628808,  -96.45620254]), array([-29787.00190342]))\n",
      "     failed     .  after 500 iterations we got from [ -0.90927292 -96.70620254] with initial lambda -1 to (array([5115.02628808,  -96.45620254]), array([-7281.39121406]))\n",
      "     failed     .  after 500 iterations we got from [ -0.90927292 -96.70620254] with initial lambda -0.1 to (array([5115.02628808,  -96.45620254]), array([-2217.62880895]))\n",
      "     failed     .  after 500 iterations we got from [ -0.90927292 -96.70620254] with initial lambda 0 to (array([5115.02628808,  -96.45620254]), array([-1654.98854172]))\n",
      "     failed     .  after 500 iterations we got from [ -0.90927292 -96.70620254] with initial lambda 0.1 to (array([5115.02628808,  -96.45620254]), array([-1092.34827449]))\n",
      "     failed     .  after 500 iterations we got from [ -0.90927292 -96.70620254] with initial lambda 1 to (array([5115.02628808,  -96.45620254]), array([3971.41413062]))\n",
      "     failed     .  after 500 iterations we got from [ -0.90927292 -96.70620254] with initial lambda 5 to (array([5115.02628808,  -96.45620254]), array([26477.02481998]))\n",
      "     failed     .  after 500 iterations we got from [ -0.90927292 -96.70620254] with initial lambda 10 to (array([5115.02628808,  -96.45620254]), array([54609.03818168]))\n",
      "|||super successful|||.  after 500 iterations we got from [-7.9003086  14.26412433] with initial lambda -10 to (array([-0.74833549,  0.66332043]), array([-0.21232494]))\n",
      "|||super successful|||.  after 500 iterations we got from [-7.9003086  14.26412433] with initial lambda -5 to (array([-0.74833549,  0.66332043]), array([-0.21232494]))\n",
      "|||super successful|||.  after 500 iterations we got from [-7.9003086  14.26412433] with initial lambda -1 to (array([-0.74833549,  0.66332043]), array([-0.21232494]))\n",
      "|||super successful|||.  after 500 iterations we got from [-7.9003086  14.26412433] with initial lambda -0.1 to (array([-0.74833549,  0.66332043]), array([-0.21232494]))\n",
      "|||super successful|||.  after 500 iterations we got from [-7.9003086  14.26412433] with initial lambda 0 to (array([-0.74833549,  0.66332043]), array([-0.21232494]))\n",
      "|||super successful|||.  after 500 iterations we got from [-7.9003086  14.26412433] with initial lambda 0.1 to (array([-0.74833549,  0.66332043]), array([-0.21232494]))\n",
      "|||super successful|||.  after 500 iterations we got from [-7.9003086  14.26412433] with initial lambda 1 to (array([-0.74833549,  0.66332043]), array([-0.21232494]))\n",
      "|||super successful|||.  after 500 iterations we got from [-7.9003086  14.26412433] with initial lambda 5 to (array([-0.74833549,  0.66332043]), array([-0.21232494]))\n",
      "|||super successful|||.  after 500 iterations we got from [-7.9003086  14.26412433] with initial lambda 10 to (array([-0.74833549,  0.66332043]), array([-0.21232494]))\n",
      "     failed     .  after 500 iterations we got from [-83.89993268 -49.98909658] with initial lambda -10 to (array([ 130.40561416, -403.34088617]), array([-1.01565328e+87]))\n",
      "     failed     .  after 500 iterations we got from [-83.89993268 -49.98909658] with initial lambda -5 to (array([ 130.40561416, -403.34088617]), array([-1.01565328e+87]))\n",
      "     failed     .  after 500 iterations we got from [-83.89993268 -49.98909658] with initial lambda -1 to (array([ 130.40561416, -403.34088617]), array([-1.01565328e+87]))\n",
      "     failed     .  after 500 iterations we got from [-83.89993268 -49.98909658] with initial lambda -0.1 to (array([ 130.40561416, -403.34088617]), array([-1.01565328e+87]))\n",
      "     failed     .  after 500 iterations we got from [-83.89993268 -49.98909658] with initial lambda 0 to (array([ 130.40561416, -403.34088617]), array([-1.01565328e+87]))\n",
      "     failed     .  after 500 iterations we got from [-83.89993268 -49.98909658] with initial lambda 0.1 to (array([ 130.40561416, -403.34088617]), array([-1.01565328e+87]))\n",
      "     failed     .  after 500 iterations we got from [-83.89993268 -49.98909658] with initial lambda 1 to (array([ 130.40561416, -403.34088617]), array([-1.01565328e+87]))\n",
      "     failed     .  after 500 iterations we got from [-83.89993268 -49.98909658] with initial lambda 5 to (array([ 130.40561416, -403.34088617]), array([-1.01565328e+87]))\n",
      "     failed     .  after 500 iterations we got from [-83.89993268 -49.98909658] with initial lambda 10 to (array([ 130.40561416, -403.34088617]), array([-1.01565328e+87]))\n",
      "     failed     .  after 500 iterations we got from [  1.77267454 -19.47635788] with initial lambda -10 to (array([451.74518994, -61.92644451]), array([-2.48884647e+78]))\n",
      "     failed     .  after 500 iterations we got from [  1.77267454 -19.47635788] with initial lambda -5 to (array([451.74518994, -61.92644451]), array([-2.48884647e+78]))\n",
      "     failed     .  after 500 iterations we got from [  1.77267454 -19.47635788] with initial lambda -1 to (array([451.74518994, -61.92644451]), array([-2.48884647e+78]))\n",
      "     failed     .  after 500 iterations we got from [  1.77267454 -19.47635788] with initial lambda -0.1 to (array([451.74518994, -61.92644451]), array([-2.48884647e+78]))\n",
      "     failed     .  after 500 iterations we got from [  1.77267454 -19.47635788] with initial lambda 0 to (array([451.74518994, -61.92644451]), array([-2.48884647e+78]))\n",
      "     failed     .  after 500 iterations we got from [  1.77267454 -19.47635788] with initial lambda 0.1 to (array([451.74518994, -61.92644451]), array([-2.48884647e+78]))\n",
      "     failed     .  after 500 iterations we got from [  1.77267454 -19.47635788] with initial lambda 1 to (array([451.74518994, -61.92644451]), array([-2.48884647e+78]))\n",
      "     failed     .  after 500 iterations we got from [  1.77267454 -19.47635788] with initial lambda 5 to (array([451.74518994, -61.92644451]), array([-2.48884647e+78]))\n",
      "     failed     .  after 500 iterations we got from [  1.77267454 -19.47635788] with initial lambda 10 to (array([451.74518994, -61.92644451]), array([-2.48884647e+78]))\n",
      "|||super successful|||.  after 500 iterations we got from [ 35.66594606 -70.77626538] with initial lambda -10 to (array([-0.74833549,  0.66332043]), array([-0.21232494]))\n",
      "|||super successful|||.  after 500 iterations we got from [ 35.66594606 -70.77626538] with initial lambda -5 to (array([-0.74833549,  0.66332043]), array([-0.21232494]))\n",
      "|||super successful|||.  after 500 iterations we got from [ 35.66594606 -70.77626538] with initial lambda -1 to (array([-0.74833549,  0.66332043]), array([-0.21232494]))\n",
      "|||super successful|||.  after 500 iterations we got from [ 35.66594606 -70.77626538] with initial lambda -0.1 to (array([-0.74833549,  0.66332043]), array([-0.21232494]))\n",
      "|||super successful|||.  after 500 iterations we got from [ 35.66594606 -70.77626538] with initial lambda 0 to (array([-0.74833549,  0.66332043]), array([-0.21232494]))\n",
      "|||super successful|||.  after 500 iterations we got from [ 35.66594606 -70.77626538] with initial lambda 0.1 to (array([-0.74833549,  0.66332043]), array([-0.21232494]))\n",
      "|||super successful|||.  after 500 iterations we got from [ 35.66594606 -70.77626538] with initial lambda 1 to (array([-0.74833549,  0.66332043]), array([-0.21232494]))\n",
      "|||super successful|||.  after 500 iterations we got from [ 35.66594606 -70.77626538] with initial lambda 5 to (array([-0.74833549,  0.66332043]), array([-0.21232494]))\n",
      "|||super successful|||.  after 500 iterations we got from [ 35.66594606 -70.77626538] with initial lambda 10 to (array([-0.74833549,  0.66332043]), array([-0.21232494]))\n",
      "     failed     .  after 500 iterations we got from [ 48.06524546 -34.73730522] with initial lambda -10 to (array([ 0.91041323, -0.41370006]), array([25.2938552]))\n",
      "     failed     .  after 500 iterations we got from [ 48.06524546 -34.73730522] with initial lambda -5 to (array([ 0.91041323, -0.41370006]), array([25.2938552]))\n",
      "     failed     .  after 500 iterations we got from [ 48.06524546 -34.73730522] with initial lambda -1 to (array([ 0.91041323, -0.41370006]), array([25.2938552]))\n",
      "     failed     .  after 500 iterations we got from [ 48.06524546 -34.73730522] with initial lambda -0.1 to (array([ 0.91041323, -0.41370006]), array([25.2938552]))\n",
      "     failed     .  after 500 iterations we got from [ 48.06524546 -34.73730522] with initial lambda 0 to (array([ 0.91041323, -0.41370006]), array([25.2938552]))\n",
      "     failed     .  after 500 iterations we got from [ 48.06524546 -34.73730522] with initial lambda 0.1 to (array([ 0.91041323, -0.41370006]), array([25.2938552]))\n",
      "     failed     .  after 500 iterations we got from [ 48.06524546 -34.73730522] with initial lambda 1 to (array([ 0.91041323, -0.41370006]), array([25.2938552]))\n",
      "     failed     .  after 500 iterations we got from [ 48.06524546 -34.73730522] with initial lambda 5 to (array([ 0.91041323, -0.41370006]), array([25.2938552]))\n",
      "     failed     .  after 500 iterations we got from [ 48.06524546 -34.73730522] with initial lambda 10 to (array([ 0.91041323, -0.41370006]), array([25.2938552]))\n",
      "|||super successful|||.  after 500 iterations we got from [-87.27047721  -1.40994007] with initial lambda -10 to (array([-0.74833549,  0.66332043]), array([-0.21232494]))\n",
      "|||super successful|||.  after 500 iterations we got from [-87.27047721  -1.40994007] with initial lambda -5 to (array([-0.74833549,  0.66332043]), array([-0.21232494]))\n",
      "|||super successful|||.  after 500 iterations we got from [-87.27047721  -1.40994007] with initial lambda -1 to (array([-0.74833549,  0.66332043]), array([-0.21232494]))\n",
      "|||super successful|||.  after 500 iterations we got from [-87.27047721  -1.40994007] with initial lambda -0.1 to (array([-0.74833549,  0.66332043]), array([-0.21232494]))\n",
      "|||super successful|||.  after 500 iterations we got from [-87.27047721  -1.40994007] with initial lambda 0 to (array([-0.74833549,  0.66332043]), array([-0.21232494]))\n",
      "|||super successful|||.  after 500 iterations we got from [-87.27047721  -1.40994007] with initial lambda 0.1 to (array([-0.74833549,  0.66332043]), array([-0.21232494]))\n",
      "|||super successful|||.  after 500 iterations we got from [-87.27047721  -1.40994007] with initial lambda 1 to (array([-0.74833549,  0.66332043]), array([-0.21232494]))\n",
      "|||super successful|||.  after 500 iterations we got from [-87.27047721  -1.40994007] with initial lambda 5 to (array([-0.74833549,  0.66332043]), array([-0.21232494]))\n",
      "|||super successful|||.  after 500 iterations we got from [-87.27047721  -1.40994007] with initial lambda 10 to (array([-0.74833549,  0.66332043]), array([-0.21232494]))\n",
      "|||super successful|||.  after 500 iterations we got from [92.78055928 -6.53848317] with initial lambda -10 to (array([-0.74833549,  0.66332043]), array([-0.21232494]))\n",
      "     failed     .  after 500 iterations we got from [92.78055928 -6.53848317] with initial lambda -5 to (array([ 0.01434523, -0.9998971 ]), array([109.16259756]))\n",
      "     failed     .  after 500 iterations we got from [92.78055928 -6.53848317] with initial lambda -1 to (array([ 0.01434523, -0.9998971 ]), array([109.16259756]))\n",
      "     failed     .  after 500 iterations we got from [92.78055928 -6.53848317] with initial lambda -0.1 to (array([ 0.01434523, -0.9998971 ]), array([109.16259756]))\n",
      "|||super successful|||.  after 500 iterations we got from [92.78055928 -6.53848317] with initial lambda 0 to (array([-0.74833549,  0.66332043]), array([-0.21232494]))\n",
      "|||super successful|||.  after 500 iterations we got from [92.78055928 -6.53848317] with initial lambda 0.1 to (array([-0.74833549,  0.66332043]), array([-0.21232494]))\n",
      "|||super successful|||.  after 500 iterations we got from [92.78055928 -6.53848317] with initial lambda 1 to (array([-0.74833549,  0.66332043]), array([-0.21232494]))\n",
      "|||super successful|||.  after 500 iterations we got from [92.78055928 -6.53848317] with initial lambda 5 to (array([-0.74833549,  0.66332043]), array([-0.21232494]))\n",
      "     failed     .  after 500 iterations we got from [92.78055928 -6.53848317] with initial lambda 10 to (array([ 0.01434523, -0.9998971 ]), array([109.16259756]))\n",
      "     failed     .  after 500 iterations we got from [ 19.32658155 -70.9891119 ] with initial lambda -10 to (array([ 358.42968524, -135.10270894]), array([-1.24490615e+149]))\n",
      "     failed     .  after 500 iterations we got from [ 19.32658155 -70.9891119 ] with initial lambda -5 to (array([ 358.42968524, -135.10270894]), array([-1.24490615e+149]))\n",
      "     failed     .  after 500 iterations we got from [ 19.32658155 -70.9891119 ] with initial lambda -1 to (array([ 358.42968524, -135.10270894]), array([-1.24490615e+149]))\n",
      "     failed     .  after 500 iterations we got from [ 19.32658155 -70.9891119 ] with initial lambda -0.1 to (array([ 358.42968524, -135.10270894]), array([-1.24490615e+149]))\n",
      "     failed     .  after 500 iterations we got from [ 19.32658155 -70.9891119 ] with initial lambda 0 to (array([ 358.42968524, -135.10270894]), array([-1.24490615e+149]))\n",
      "     failed     .  after 500 iterations we got from [ 19.32658155 -70.9891119 ] with initial lambda 0.1 to (array([ 358.42968524, -135.10270894]), array([-1.24490615e+149]))\n",
      "     failed     .  after 500 iterations we got from [ 19.32658155 -70.9891119 ] with initial lambda 1 to (array([ 358.42968524, -135.10270894]), array([-1.24490615e+149]))\n",
      "     failed     .  after 500 iterations we got from [ 19.32658155 -70.9891119 ] with initial lambda 5 to (array([ 358.42968524, -135.10270894]), array([-1.24490615e+149]))\n",
      "     failed     .  after 500 iterations we got from [ 19.32658155 -70.9891119 ] with initial lambda 10 to (array([ 358.42968524, -135.10270894]), array([-1.24490615e+149]))\n",
      "     failed     .  after 500 iterations we got from [ 26.88673036 -32.57621667] with initial lambda -10 to (array([  82.09774325, -421.64003043]), array([-7.98193577e+58]))\n",
      "     failed     .  after 500 iterations we got from [ 26.88673036 -32.57621667] with initial lambda -5 to (array([  82.09774325, -421.64003043]), array([-7.98193577e+58]))\n",
      "     failed     .  after 500 iterations we got from [ 26.88673036 -32.57621667] with initial lambda -1 to (array([  82.09774325, -421.64003043]), array([-7.98193577e+58]))\n",
      "     failed     .  after 500 iterations we got from [ 26.88673036 -32.57621667] with initial lambda -0.1 to (array([  82.09774325, -421.64003043]), array([-7.98193577e+58]))\n",
      "     failed     .  after 500 iterations we got from [ 26.88673036 -32.57621667] with initial lambda 0 to (array([  82.09774325, -421.64003043]), array([-7.98193577e+58]))\n",
      "     failed     .  after 500 iterations we got from [ 26.88673036 -32.57621667] with initial lambda 0.1 to (array([  82.09774325, -421.64003043]), array([-7.98193577e+58]))\n",
      "     failed     .  after 500 iterations we got from [ 26.88673036 -32.57621667] with initial lambda 1 to (array([  82.09774325, -421.64003043]), array([-7.98193577e+58]))\n",
      "     failed     .  after 500 iterations we got from [ 26.88673036 -32.57621667] with initial lambda 5 to (array([  82.09774325, -421.64003043]), array([-7.98193577e+58]))\n",
      "     failed     .  after 500 iterations we got from [ 26.88673036 -32.57621667] with initial lambda 10 to (array([  82.09774325, -421.64003043]), array([-7.98193577e+58]))\n",
      "     failed     .  after 500 iterations we got from [-24.75958156 -18.21398363] with initial lambda -10 to (array([ 0.91041323, -0.41370006]), array([25.2938552]))\n",
      "     failed     .  after 500 iterations we got from [-24.75958156 -18.21398363] with initial lambda -5 to (array([ 0.91041323, -0.41370006]), array([25.2938552]))\n",
      "     failed     .  after 500 iterations we got from [-24.75958156 -18.21398363] with initial lambda -1 to (array([ 0.91041323, -0.41370006]), array([25.2938552]))\n",
      "     failed     .  after 500 iterations we got from [-24.75958156 -18.21398363] with initial lambda -0.1 to (array([ 0.91041323, -0.41370006]), array([25.2938552]))\n",
      "     failed     .  after 500 iterations we got from [-24.75958156 -18.21398363] with initial lambda 0 to (array([ 0.91041323, -0.41370006]), array([25.2938552]))\n",
      "     failed     .  after 500 iterations we got from [-24.75958156 -18.21398363] with initial lambda 0.1 to (array([ 0.91041323, -0.41370006]), array([25.2938552]))\n",
      "     failed     .  after 500 iterations we got from [-24.75958156 -18.21398363] with initial lambda 1 to (array([ 0.91041323, -0.41370006]), array([25.2938552]))\n",
      "     failed     .  after 500 iterations we got from [-24.75958156 -18.21398363] with initial lambda 5 to (array([ 0.91041323, -0.41370006]), array([25.2938552]))\n",
      "     failed     .  after 500 iterations we got from [-24.75958156 -18.21398363] with initial lambda 10 to (array([ 0.91041323, -0.41370006]), array([25.2938552]))\n",
      "     failed     .  after 500 iterations we got from [-80.63364754 -31.11554291] with initial lambda -10 to (array([ 123.90117069, -190.30455095]), array([-2.12099616e+74]))\n",
      "     failed     .  after 500 iterations we got from [-80.63364754 -31.11554291] with initial lambda -5 to (array([ 123.90117069, -190.30455095]), array([-2.12099616e+74]))\n",
      "     failed     .  after 500 iterations we got from [-80.63364754 -31.11554291] with initial lambda -1 to (array([ 123.90117069, -190.30455095]), array([-2.12099616e+74]))\n",
      "     failed     .  after 500 iterations we got from [-80.63364754 -31.11554291] with initial lambda -0.1 to (array([ 123.90117069, -190.30455095]), array([-2.12099616e+74]))\n",
      "     failed     .  after 500 iterations we got from [-80.63364754 -31.11554291] with initial lambda 0 to (array([ 123.90117069, -190.30455095]), array([-2.12099616e+74]))\n",
      "     failed     .  after 500 iterations we got from [-80.63364754 -31.11554291] with initial lambda 0.1 to (array([ 123.90117069, -190.30455095]), array([-2.12099616e+74]))\n",
      "     failed     .  after 500 iterations we got from [-80.63364754 -31.11554291] with initial lambda 1 to (array([ 123.90117069, -190.30455095]), array([-2.12099616e+74]))\n",
      "     failed     .  after 500 iterations we got from [-80.63364754 -31.11554291] with initial lambda 5 to (array([ 123.90117069, -190.30455095]), array([-2.12099616e+74]))\n",
      "     failed     .  after 500 iterations we got from [-80.63364754 -31.11554291] with initial lambda 10 to (array([ 123.90117069, -190.30455095]), array([-2.12099616e+74]))\n",
      "     failed     .  after 500 iterations we got from [ 62.70545774 -77.23060389] with initial lambda -10 to (array([ 173.26318918, -276.17681606]), array([-2.39983713e+158]))\n",
      "     failed     .  after 500 iterations we got from [ 62.70545774 -77.23060389] with initial lambda -5 to (array([ 173.26318918, -276.17681606]), array([-2.39983713e+158]))\n",
      "     failed     .  after 500 iterations we got from [ 62.70545774 -77.23060389] with initial lambda -1 to (array([ 173.26318918, -276.17681606]), array([-2.39983713e+158]))\n",
      "     failed     .  after 500 iterations we got from [ 62.70545774 -77.23060389] with initial lambda -0.1 to (array([ 173.26318918, -276.17681606]), array([-2.39983713e+158]))\n",
      "     failed     .  after 500 iterations we got from [ 62.70545774 -77.23060389] with initial lambda 0 to (array([ 173.26318918, -276.17681606]), array([-2.39983713e+158]))\n",
      "     failed     .  after 500 iterations we got from [ 62.70545774 -77.23060389] with initial lambda 0.1 to (array([ 173.26318918, -276.17681606]), array([-2.39983713e+158]))\n",
      "     failed     .  after 500 iterations we got from [ 62.70545774 -77.23060389] with initial lambda 1 to (array([ 173.26318918, -276.17681606]), array([-2.39983713e+158]))\n",
      "     failed     .  after 500 iterations we got from [ 62.70545774 -77.23060389] with initial lambda 5 to (array([ 173.26318918, -276.17681606]), array([-2.39983713e+158]))\n",
      "     failed     .  after 500 iterations we got from [ 62.70545774 -77.23060389] with initial lambda 10 to (array([ 173.26318918, -276.17681606]), array([-2.39983713e+158]))\n",
      "     failed     .  after 500 iterations we got from [ 32.06701655 -82.38335227] with initial lambda -10 to (array([475.05302442, -81.63335227]), array([-6.51730772e+44]))\n",
      "     failed     .  after 500 iterations we got from [ 32.06701655 -82.38335227] with initial lambda -5 to (array([475.05302442, -81.63335227]), array([-6.51730772e+44]))\n",
      "     failed     .  after 500 iterations we got from [ 32.06701655 -82.38335227] with initial lambda -1 to (array([475.05302442, -81.63335227]), array([-6.51730772e+44]))\n",
      "     failed     .  after 500 iterations we got from [ 32.06701655 -82.38335227] with initial lambda -0.1 to (array([475.05302442, -81.63335227]), array([-6.51730772e+44]))\n",
      "     failed     .  after 500 iterations we got from [ 32.06701655 -82.38335227] with initial lambda 0 to (array([475.05302442, -81.63335227]), array([-6.51730772e+44]))\n",
      "     failed     .  after 500 iterations we got from [ 32.06701655 -82.38335227] with initial lambda 0.1 to (array([475.05302442, -81.63335227]), array([-6.51730772e+44]))\n",
      "     failed     .  after 500 iterations we got from [ 32.06701655 -82.38335227] with initial lambda 1 to (array([475.05302442, -81.63335227]), array([-6.51730772e+44]))\n",
      "     failed     .  after 500 iterations we got from [ 32.06701655 -82.38335227] with initial lambda 5 to (array([475.05302442, -81.63335227]), array([-6.51730772e+44]))\n",
      "     failed     .  after 500 iterations we got from [ 32.06701655 -82.38335227] with initial lambda 10 to (array([475.05302442, -81.63335227]), array([-6.51730772e+44]))\n",
      "     failed     .  after 500 iterations we got from [-11.57540939 -79.86193702] with initial lambda -10 to (array([267.93902949, -79.61193702]), array([-241.47261626]))\n",
      "     failed     .  after 500 iterations we got from [-11.57540939 -79.86193702] with initial lambda -5 to (array([267.93902949, -79.61193702]), array([-120.73630813]))\n",
      "     failed     .  after 500 iterations we got from [-11.57540939 -79.86193702] with initial lambda -1 to (array([267.93902949, -79.61193702]), array([-24.14726163]))\n",
      "     failed     .  after 500 iterations we got from [-11.57540939 -79.86193702] with initial lambda -0.1 to (array([267.93902949, -79.61193702]), array([-2.41472616]))\n",
      "     failed     .  after 500 iterations we got from [-11.57540939 -79.86193702] with initial lambda 0 to (array([267.93902949, -79.61193702]), array([-9.0196304e-14]))\n",
      "     failed     .  after 500 iterations we got from [-11.57540939 -79.86193702] with initial lambda 0.1 to (array([267.93902949, -79.61193702]), array([2.41472616]))\n",
      "     failed     .  after 500 iterations we got from [-11.57540939 -79.86193702] with initial lambda 1 to (array([267.93902949, -79.61193702]), array([24.14726163]))\n",
      "     failed     .  after 500 iterations we got from [-11.57540939 -79.86193702] with initial lambda 5 to (array([267.93902949, -79.61193702]), array([120.73630813]))\n",
      "     failed     .  after 500 iterations we got from [-11.57540939 -79.86193702] with initial lambda 10 to (array([267.93902949, -79.61193702]), array([241.47261626]))\n",
      "     failed     .  after 500 iterations we got from [ 9.4546535  43.29111303] with initial lambda -10 to (array([   8.12131984, -269.29198438]), array([-17854.34304369]))\n",
      "     failed     .  after 500 iterations we got from [ 9.4546535  43.29111303] with initial lambda -5 to (array([   8.1213199 , -269.29198874]), array([-14463.84871713]))\n",
      "     failed     .  after 500 iterations we got from [ 9.4546535  43.29111303] with initial lambda -1 to (array([   8.12131995, -269.29199223]), array([-11751.45317601]))\n",
      "     failed     .  after 500 iterations we got from [ 9.4546535  43.29111303] with initial lambda -0.1 to (array([   8.12131996, -269.29199302]), array([-11141.16416947]))\n",
      "     failed     .  after 500 iterations we got from [ 9.4546535  43.29111303] with initial lambda 0 to (array([   8.12131996, -269.2919931 ]), array([-11073.35427963]))\n",
      "     failed     .  after 500 iterations we got from [ 9.4546535  43.29111303] with initial lambda 0.1 to (array([   8.12131997, -269.29199319]), array([-11005.54438975]))\n",
      "     failed     .  after 500 iterations we got from [ 9.4546535  43.29111303] with initial lambda 1 to (array([   8.12131998, -269.29199398]), array([-10395.25537882]))\n",
      "     failed     .  after 500 iterations we got from [ 9.4546535  43.29111303] with initial lambda 5 to (array([   8.12132003, -269.29199747]), array([-7682.85973119]))\n",
      "     failed     .  after 500 iterations we got from [ 9.4546535  43.29111303] with initial lambda 10 to (array([   8.12132009, -269.29200183]), array([-4292.36507181]))\n",
      "|||super successful|||.  after 500 iterations we got from [-87.43515185  80.23073594] with initial lambda -10 to (array([-0.74833549,  0.66332043]), array([-0.21232494]))\n",
      "|||super successful|||.  after 500 iterations we got from [-87.43515185  80.23073594] with initial lambda -5 to (array([-0.74833549,  0.66332043]), array([-0.21232494]))\n",
      "|||super successful|||.  after 500 iterations we got from [-87.43515185  80.23073594] with initial lambda -1 to (array([-0.74833549,  0.66332043]), array([-0.21232494]))\n",
      "|||super successful|||.  after 500 iterations we got from [-87.43515185  80.23073594] with initial lambda -0.1 to (array([-0.74833549,  0.66332043]), array([-0.21232494]))\n",
      "|||super successful|||.  after 500 iterations we got from [-87.43515185  80.23073594] with initial lambda 0 to (array([-0.74833549,  0.66332043]), array([-0.21232494]))\n",
      "|||super successful|||.  after 500 iterations we got from [-87.43515185  80.23073594] with initial lambda 0.1 to (array([-0.74833549,  0.66332043]), array([-0.21232494]))\n",
      "|||super successful|||.  after 500 iterations we got from [-87.43515185  80.23073594] with initial lambda 1 to (array([-0.74833549,  0.66332043]), array([-0.21232494]))\n",
      "|||super successful|||.  after 500 iterations we got from [-87.43515185  80.23073594] with initial lambda 5 to (array([-0.74833549,  0.66332043]), array([-0.21232494]))\n",
      "|||super successful|||.  after 500 iterations we got from [-87.43515185  80.23073594] with initial lambda 10 to (array([-0.74833549,  0.66332043]), array([-0.21232494]))\n",
      "|||super successful|||.  after 500 iterations we got from [-52.53844235  68.49722489] with initial lambda -10 to (array([-0.74833549,  0.66332043]), array([-0.21232494]))\n",
      "|||super successful|||.  after 500 iterations we got from [-52.53844235  68.49722489] with initial lambda -5 to (array([-0.74833549,  0.66332043]), array([-0.21232494]))\n",
      "|||super successful|||.  after 500 iterations we got from [-52.53844235  68.49722489] with initial lambda -1 to (array([-0.74833549,  0.66332043]), array([-0.21232494]))\n",
      "|||super successful|||.  after 500 iterations we got from [-52.53844235  68.49722489] with initial lambda -0.1 to (array([-0.74833549,  0.66332043]), array([-0.21232494]))\n",
      "|||super successful|||.  after 500 iterations we got from [-52.53844235  68.49722489] with initial lambda 0 to (array([-0.74833549,  0.66332043]), array([-0.21232494]))\n",
      "|||super successful|||.  after 500 iterations we got from [-52.53844235  68.49722489] with initial lambda 0.1 to (array([-0.74833549,  0.66332043]), array([-0.21232494]))\n",
      "|||super successful|||.  after 500 iterations we got from [-52.53844235  68.49722489] with initial lambda 1 to (array([-0.74833549,  0.66332043]), array([-0.21232494]))\n",
      "|||super successful|||.  after 500 iterations we got from [-52.53844235  68.49722489] with initial lambda 5 to (array([-0.74833549,  0.66332043]), array([-0.21232494]))\n",
      "|||super successful|||.  after 500 iterations we got from [-52.53844235  68.49722489] with initial lambda 10 to (array([-0.74833549,  0.66332043]), array([-0.21232494]))\n",
      "     failed     .  after 500 iterations we got from [ 82.8365411  -79.01690688] with initial lambda -10 to (array([260.659542  , -75.26690688]), array([-7.25919423e+113]))\n",
      "     failed     .  after 500 iterations we got from [ 82.8365411  -79.01690688] with initial lambda -5 to (array([260.659542  , -75.26690688]), array([-7.25919423e+113]))\n",
      "     failed     .  after 500 iterations we got from [ 82.8365411  -79.01690688] with initial lambda -1 to (array([260.659542  , -75.26690688]), array([-7.25919423e+113]))\n",
      "     failed     .  after 500 iterations we got from [ 82.8365411  -79.01690688] with initial lambda -0.1 to (array([260.659542  , -75.26690688]), array([-7.25919423e+113]))\n",
      "     failed     .  after 500 iterations we got from [ 82.8365411  -79.01690688] with initial lambda 0 to (array([260.659542  , -75.26690688]), array([-7.25919423e+113]))\n",
      "     failed     .  after 500 iterations we got from [ 82.8365411  -79.01690688] with initial lambda 0.1 to (array([260.659542  , -75.26690688]), array([-7.25919423e+113]))\n",
      "     failed     .  after 500 iterations we got from [ 82.8365411  -79.01690688] with initial lambda 1 to (array([260.659542  , -75.26690688]), array([-7.25919423e+113]))\n",
      "     failed     .  after 500 iterations we got from [ 82.8365411  -79.01690688] with initial lambda 5 to (array([260.659542  , -75.26690688]), array([-7.25919423e+113]))\n",
      "     failed     .  after 500 iterations we got from [ 82.8365411  -79.01690688] with initial lambda 10 to (array([260.659542  , -75.26690688]), array([-7.25919423e+113]))\n",
      "     failed     .  after 500 iterations we got from [68.62929614 60.82297175] with initial lambda -10 to (array([ 178.11711213, -434.45122041]), array([-3.36514749e+141]))\n",
      "     failed     .  after 500 iterations we got from [68.62929614 60.82297175] with initial lambda -5 to (array([ 178.11711213, -434.45122041]), array([-3.36514749e+141]))\n",
      "     failed     .  after 500 iterations we got from [68.62929614 60.82297175] with initial lambda -1 to (array([ 178.11711213, -434.45122043]), array([-3.3651475e+141]))\n",
      "     failed     .  after 500 iterations we got from [68.62929614 60.82297175] with initial lambda -0.1 to (array([ 178.11711213, -434.45122041]), array([-3.36514749e+141]))\n",
      "     failed     .  after 500 iterations we got from [68.62929614 60.82297175] with initial lambda 0 to (array([ 178.11711213, -434.45122038]), array([-3.36514749e+141]))\n",
      "     failed     .  after 500 iterations we got from [68.62929614 60.82297175] with initial lambda 0.1 to (array([ 178.11711213, -434.45122044]), array([-3.3651475e+141]))\n",
      "     failed     .  after 500 iterations we got from [68.62929614 60.82297175] with initial lambda 1 to (array([ 178.11711213, -434.45122044]), array([-3.3651475e+141]))\n",
      "     failed     .  after 500 iterations we got from [68.62929614 60.82297175] with initial lambda 5 to (array([ 178.11711213, -434.45122044]), array([-3.3651475e+141]))\n",
      "     failed     .  after 500 iterations we got from [68.62929614 60.82297175] with initial lambda 10 to (array([ 178.11711213, -434.45122038]), array([-3.36514749e+141]))\n",
      "     failed     .  after 500 iterations we got from [-0. -0.] with initial lambda -10 to (array([-0., -0.]), -10)\n",
      "     failed     .  after 500 iterations we got from [-0. -0.] with initial lambda -5 to (array([-0., -0.]), -5)\n",
      "     failed     .  after 500 iterations we got from [-0. -0.] with initial lambda -1 to (array([-0., -0.]), -1)\n",
      "     failed     .  after 500 iterations we got from [-0. -0.] with initial lambda -0.1 to (array([-0., -0.]), -0.1)\n",
      "     failed     .  after 500 iterations we got from [-0. -0.] with initial lambda 0 to (array([-0., -0.]), 0)\n",
      "     failed     .  after 500 iterations we got from [-0. -0.] with initial lambda 0.1 to (array([-0., -0.]), 0.1)\n",
      "     failed     .  after 500 iterations we got from [-0. -0.] with initial lambda 1 to (array([-0., -0.]), 1)\n",
      "     failed     .  after 500 iterations we got from [-0. -0.] with initial lambda 5 to (array([-0., -0.]), 5)\n",
      "     failed     .  after 500 iterations we got from [-0. -0.] with initial lambda 10 to (array([-0., -0.]), 10)\n",
      "     failed     .  after 500 iterations we got from [-0.05 -0.05] with initial lambda -10 to (array([ 0.91041323, -0.41370006]), array([25.2938552]))\n",
      "|||super successful|||.  after 500 iterations we got from [-0.05 -0.05] with initial lambda -5 to (array([-0.74833549,  0.66332043]), array([-0.21232494]))\n",
      "|||super successful|||.  after 500 iterations we got from [-0.05 -0.05] with initial lambda -1 to (array([-0.74833549,  0.66332043]), array([-0.21232494]))\n",
      "|||super successful|||.  after 500 iterations we got from [-0.05 -0.05] with initial lambda -0.1 to (array([-0.74833549,  0.66332043]), array([-0.21232494]))\n",
      "     failed     .  after 500 iterations we got from [-0.05 -0.05] with initial lambda 0 to (array([ 0.91041323, -0.41370006]), array([25.2938552]))\n",
      "     failed     .  after 500 iterations we got from [-0.05 -0.05] with initial lambda 0.1 to (array([ 0.01434523, -0.9998971 ]), array([109.16259756]))\n",
      "     failed     .  after 500 iterations we got from [-0.05 -0.05] with initial lambda 1 to (array([ 0.99498259, -0.10004825]), array([29.82786165]))\n",
      "|||super successful|||.  after 500 iterations we got from [-0.05 -0.05] with initial lambda 5 to (array([-0.74833549,  0.66332043]), array([-0.21232494]))\n",
      "     failed     .  after 500 iterations we got from [-0.05 -0.05] with initial lambda 10 to (array([  25.9076761 , -336.59072701]), array([-5.349288e+22]))\n",
      "     failed     .  after 500 iterations we got from [ 1. -1.] with initial lambda -10 to (array([ 0.91041323, -0.41370006]), array([25.2938552]))\n",
      "     failed     .  after 500 iterations we got from [ 1. -1.] with initial lambda -5 to (array([ 0.91041323, -0.41370006]), array([25.2938552]))\n",
      "     failed     .  after 500 iterations we got from [ 1. -1.] with initial lambda -1 to (array([ 0.91041323, -0.41370006]), array([25.2938552]))\n",
      "     failed     .  after 500 iterations we got from [ 1. -1.] with initial lambda -0.1 to (array([ 0.91041323, -0.41370006]), array([25.2938552]))\n",
      "     failed     .  after 500 iterations we got from [ 1. -1.] with initial lambda 0 to (array([ 0.91041323, -0.41370006]), array([25.2938552]))\n",
      "     failed     .  after 500 iterations we got from [ 1. -1.] with initial lambda 0.1 to (array([ 0.91041323, -0.41370006]), array([25.2938552]))\n",
      "     failed     .  after 500 iterations we got from [ 1. -1.] with initial lambda 1 to (array([ 0.91041323, -0.41370006]), array([25.2938552]))\n",
      "     failed     .  after 500 iterations we got from [ 1. -1.] with initial lambda 5 to (array([ 0.91041323, -0.41370006]), array([25.2938552]))\n",
      "     failed     .  after 500 iterations we got from [ 1. -1.] with initial lambda 10 to (array([ 0.91041323, -0.41370006]), array([25.2938552]))\n",
      "|||super successful|||.  after 500 iterations we got from [ 10. -10.] with initial lambda -10 to (array([-0.74833549,  0.66332043]), array([-0.21232494]))\n",
      "|||super successful|||.  after 500 iterations we got from [ 10. -10.] with initial lambda -5 to (array([-0.74833549,  0.66332043]), array([-0.21232494]))\n",
      "|||super successful|||.  after 500 iterations we got from [ 10. -10.] with initial lambda -1 to (array([-0.74833549,  0.66332043]), array([-0.21232494]))\n",
      "|||super successful|||.  after 500 iterations we got from [ 10. -10.] with initial lambda -0.1 to (array([-0.74833549,  0.66332043]), array([-0.21232494]))\n",
      "|||super successful|||.  after 500 iterations we got from [ 10. -10.] with initial lambda 0 to (array([-0.74833549,  0.66332043]), array([-0.21232494]))\n",
      "|||super successful|||.  after 500 iterations we got from [ 10. -10.] with initial lambda 0.1 to (array([-0.74833549,  0.66332043]), array([-0.21232494]))\n",
      "|||super successful|||.  after 500 iterations we got from [ 10. -10.] with initial lambda 1 to (array([-0.74833549,  0.66332043]), array([-0.21232494]))\n",
      "|||super successful|||.  after 500 iterations we got from [ 10. -10.] with initial lambda 5 to (array([-0.74833549,  0.66332043]), array([-0.21232494]))\n",
      "|||super successful|||.  after 500 iterations we got from [ 10. -10.] with initial lambda 10 to (array([-0.74833549,  0.66332043]), array([-0.21232494]))\n",
      "     failed     .  after 500 iterations we got from [ 100. -100.] with initial lambda -10 to (array([ 176.18968369, -241.95308482]), array([-3.77526209e+224]))\n",
      "     failed     .  after 500 iterations we got from [ 100. -100.] with initial lambda -5 to (array([ 176.18968369, -241.95308482]), array([-3.77526209e+224]))\n",
      "     failed     .  after 500 iterations we got from [ 100. -100.] with initial lambda -1 to (array([ 176.18968369, -241.95308482]), array([-3.77526209e+224]))\n",
      "     failed     .  after 500 iterations we got from [ 100. -100.] with initial lambda -0.1 to (array([ 176.18968369, -241.95308482]), array([-3.77526209e+224]))\n",
      "     failed     .  after 500 iterations we got from [ 100. -100.] with initial lambda 0 to (array([ 176.18968369, -241.95308482]), array([-3.77526209e+224]))\n",
      "     failed     .  after 500 iterations we got from [ 100. -100.] with initial lambda 0.1 to (array([ 176.18968369, -241.95308482]), array([-3.77526209e+224]))\n",
      "     failed     .  after 500 iterations we got from [ 100. -100.] with initial lambda 1 to (array([ 176.18968369, -241.95308482]), array([-3.77526209e+224]))\n",
      "     failed     .  after 500 iterations we got from [ 100. -100.] with initial lambda 5 to (array([ 176.18968369, -241.95308482]), array([-3.77526209e+224]))\n",
      "     failed     .  after 500 iterations we got from [ 100. -100.] with initial lambda 10 to (array([ 176.18968369, -241.95308482]), array([-3.77526209e+224]))\n",
      "|||super successful|||.  after 500 iterations we got from [-1.  1.] with initial lambda -10 to (array([-0.74833549,  0.66332043]), array([-0.21232494]))\n",
      "|||super successful|||.  after 500 iterations we got from [-1.  1.] with initial lambda -5 to (array([-0.74833549,  0.66332043]), array([-0.21232494]))\n",
      "|||super successful|||.  after 500 iterations we got from [-1.  1.] with initial lambda -1 to (array([-0.74833549,  0.66332043]), array([-0.21232494]))\n",
      "|||super successful|||.  after 500 iterations we got from [-1.  1.] with initial lambda -0.1 to (array([-0.74833549,  0.66332043]), array([-0.21232494]))\n",
      "|||super successful|||.  after 500 iterations we got from [-1.  1.] with initial lambda 0 to (array([-0.74833549,  0.66332043]), array([-0.21232494]))\n",
      "|||super successful|||.  after 500 iterations we got from [-1.  1.] with initial lambda 0.1 to (array([-0.74833549,  0.66332043]), array([-0.21232494]))\n",
      "|||super successful|||.  after 500 iterations we got from [-1.  1.] with initial lambda 1 to (array([-0.74833549,  0.66332043]), array([-0.21232494]))\n",
      "|||super successful|||.  after 500 iterations we got from [-1.  1.] with initial lambda 5 to (array([-0.74833549,  0.66332043]), array([-0.21232494]))\n",
      "|||super successful|||.  after 500 iterations we got from [-1.  1.] with initial lambda 10 to (array([-0.74833549,  0.66332043]), array([-0.21232494]))\n",
      "|||super successful|||.  after 500 iterations we got from [-10.  10.] with initial lambda -10 to (array([-0.74833549,  0.66332043]), array([-0.21232494]))\n",
      "|||super successful|||.  after 500 iterations we got from [-10.  10.] with initial lambda -5 to (array([-0.74833549,  0.66332043]), array([-0.21232494]))\n",
      "|||super successful|||.  after 500 iterations we got from [-10.  10.] with initial lambda -1 to (array([-0.74833549,  0.66332043]), array([-0.21232494]))\n",
      "|||super successful|||.  after 500 iterations we got from [-10.  10.] with initial lambda -0.1 to (array([-0.74833549,  0.66332043]), array([-0.21232494]))\n",
      "|||super successful|||.  after 500 iterations we got from [-10.  10.] with initial lambda 0 to (array([-0.74833549,  0.66332043]), array([-0.21232494]))\n",
      "|||super successful|||.  after 500 iterations we got from [-10.  10.] with initial lambda 0.1 to (array([-0.74833549,  0.66332043]), array([-0.21232494]))\n",
      "|||super successful|||.  after 500 iterations we got from [-10.  10.] with initial lambda 1 to (array([-0.74833549,  0.66332043]), array([-0.21232494]))\n",
      "|||super successful|||.  after 500 iterations we got from [-10.  10.] with initial lambda 5 to (array([-0.74833549,  0.66332043]), array([-0.21232494]))\n",
      "|||super successful|||.  after 500 iterations we got from [-10.  10.] with initial lambda 10 to (array([-0.74833549,  0.66332043]), array([-0.21232494]))\n",
      "|||super successful|||.  after 500 iterations we got from [-100.  100.] with initial lambda -10 to (array([-0.74833549,  0.66332043]), array([-0.21232494]))\n",
      "|||super successful|||.  after 500 iterations we got from [-100.  100.] with initial lambda -5 to (array([-0.74833549,  0.66332043]), array([-0.21232494]))\n",
      "|||super successful|||.  after 500 iterations we got from [-100.  100.] with initial lambda -1 to (array([-0.74833549,  0.66332043]), array([-0.21232494]))\n",
      "|||super successful|||.  after 500 iterations we got from [-100.  100.] with initial lambda -0.1 to (array([-0.74833549,  0.66332043]), array([-0.21232494]))\n",
      "|||super successful|||.  after 500 iterations we got from [-100.  100.] with initial lambda 0 to (array([-0.74833549,  0.66332043]), array([-0.21232494]))\n",
      "|||super successful|||.  after 500 iterations we got from [-100.  100.] with initial lambda 0.1 to (array([-0.74833549,  0.66332043]), array([-0.21232494]))\n",
      "|||super successful|||.  after 500 iterations we got from [-100.  100.] with initial lambda 1 to (array([-0.74833549,  0.66332043]), array([-0.21232494]))\n",
      "|||super successful|||.  after 500 iterations we got from [-100.  100.] with initial lambda 5 to (array([-0.74833549,  0.66332043]), array([-0.21232494]))\n",
      "|||super successful|||.  after 500 iterations we got from [-100.  100.] with initial lambda 10 to (array([-0.74833549,  0.66332043]), array([-0.21232494]))\n",
      "|||super successful|||.  after 500 iterations we got from [-1. -1.] with initial lambda -10 to (array([-0.74833549,  0.66332043]), array([-0.21232494]))\n",
      "|||super successful|||.  after 500 iterations we got from [-1. -1.] with initial lambda -5 to (array([-0.74833549,  0.66332043]), array([-0.21232494]))\n",
      "|||super successful|||.  after 500 iterations we got from [-1. -1.] with initial lambda -1 to (array([-0.74833549,  0.66332043]), array([-0.21232494]))\n",
      "|||super successful|||.  after 500 iterations we got from [-1. -1.] with initial lambda -0.1 to (array([-0.74833549,  0.66332043]), array([-0.21232494]))\n",
      "|||super successful|||.  after 500 iterations we got from [-1. -1.] with initial lambda 0 to (array([-0.74833549,  0.66332043]), array([-0.21232494]))\n",
      "|||super successful|||.  after 500 iterations we got from [-1. -1.] with initial lambda 0.1 to (array([-0.74833549,  0.66332043]), array([-0.21232494]))\n",
      "|||super successful|||.  after 500 iterations we got from [-1. -1.] with initial lambda 1 to (array([-0.74833549,  0.66332043]), array([-0.21232494]))\n",
      "|||super successful|||.  after 500 iterations we got from [-1. -1.] with initial lambda 5 to (array([-0.74833549,  0.66332043]), array([-0.21232494]))\n",
      "|||super successful|||.  after 500 iterations we got from [-1. -1.] with initial lambda 10 to (array([-0.74833549,  0.66332043]), array([-0.21232494]))\n",
      "     failed     .  after 500 iterations we got from [-1.8 -1.8] with initial lambda -10 to (array([ 0.91041323, -0.41370006]), array([25.2938552]))\n",
      "     failed     .  after 500 iterations we got from [-1.8 -1.8] with initial lambda -5 to (array([ 0.91041323, -0.41370006]), array([25.2938552]))\n",
      "     failed     .  after 500 iterations we got from [-1.8 -1.8] with initial lambda -1 to (array([ 0.91041323, -0.41370006]), array([25.2938552]))\n",
      "     failed     .  after 500 iterations we got from [-1.8 -1.8] with initial lambda -0.1 to (array([ 0.91041323, -0.41370006]), array([25.2938552]))\n",
      "     failed     .  after 500 iterations we got from [-1.8 -1.8] with initial lambda 0 to (array([ 0.91041323, -0.41370006]), array([25.2938552]))\n",
      "     failed     .  after 500 iterations we got from [-1.8 -1.8] with initial lambda 0.1 to (array([ 0.91041323, -0.41370006]), array([25.2938552]))\n",
      "     failed     .  after 500 iterations we got from [-1.8 -1.8] with initial lambda 1 to (array([ 0.91041323, -0.41370006]), array([25.2938552]))\n",
      "     failed     .  after 500 iterations we got from [-1.8 -1.8] with initial lambda 5 to (array([ 0.99498259, -0.10004825]), array([29.82786165]))\n",
      "|||super successful|||.  after 500 iterations we got from [-1.8 -1.8] with initial lambda 10 to (array([-0.74833549,  0.66332043]), array([-0.21232494]))\n",
      "|||super successful|||.  after 500 iterations we got from [-1.85 -1.85] with initial lambda -10 to (array([-0.74833549,  0.66332043]), array([-0.21232494]))\n",
      "     failed     .  after 500 iterations we got from [-1.85 -1.85] with initial lambda -5 to (array([ 0.91041323, -0.41370006]), array([25.2938552]))\n",
      "     failed     .  after 500 iterations we got from [-1.85 -1.85] with initial lambda -1 to (array([ 0.99498259, -0.10004825]), array([29.82786165]))\n",
      "     failed     .  after 500 iterations we got from [-1.85 -1.85] with initial lambda -0.1 to (array([ 0.91041323, -0.41370006]), array([25.2938552]))\n",
      "     failed     .  after 500 iterations we got from [-1.85 -1.85] with initial lambda 0 to (array([ 0.91041323, -0.41370006]), array([25.2938552]))\n",
      "     failed     .  after 500 iterations we got from [-1.85 -1.85] with initial lambda 0.1 to (array([ 0.91041323, -0.41370006]), array([25.2938552]))\n",
      "     failed     .  after 500 iterations we got from [-1.85 -1.85] with initial lambda 1 to (array([ 0.91041323, -0.41370006]), array([25.2938552]))\n",
      "     failed     .  after 500 iterations we got from [-1.85 -1.85] with initial lambda 5 to (array([ 0.91041323, -0.41370006]), array([25.2938552]))\n",
      "|||super successful|||.  after 500 iterations we got from [-1.85 -1.85] with initial lambda 10 to (array([-0.74833549,  0.66332043]), array([-0.21232494]))\n",
      "     failed     .  after 500 iterations we got from [-5. -5.] with initial lambda -10 to (array([626.54782736, -63.27328817]), array([-4.72973895e+81]))\n",
      "     failed     .  after 500 iterations we got from [-5. -5.] with initial lambda -5 to (array([627.99405622, -63.26766048]), array([-4.77810995e+81]))\n",
      "     failed     .  after 500 iterations we got from [-5. -5.] with initial lambda -1 to (array([629.15599358, -63.26315874]), array([-4.81720291e+81]))\n",
      "     failed     .  after 500 iterations we got from [-5. -5.] with initial lambda -0.1 to (array([629.41803926, -63.26214589]), array([-4.82604777e+81]))\n",
      "     failed     .  after 500 iterations we got from [-5. -5.] with initial lambda 0 to (array([629.44716931, -63.26203336]), array([-4.82703164e+81]))\n",
      "     failed     .  after 500 iterations we got from [-5. -5.] with initial lambda 0.1 to (array([629.47630212, -63.26192082]), array([-4.82801574e+81]))\n",
      "     failed     .  after 500 iterations we got from [-5. -5.] with initial lambda 1 to (array([629.73862237, -63.260908  ]), array([-4.83688268e+81]))\n",
      "     failed     .  after 500 iterations we got from [-5. -5.] with initial lambda 5 to (array([630.90721607, -63.2564068 ]), array([-4.87651106e+81]))\n",
      "     failed     .  after 500 iterations we got from [-5. -5.] with initial lambda 10 to (array([632.3742464 , -63.25078082]), array([-4.92655537e+81]))\n",
      "|||super successful|||.  after 500 iterations we got from [1. 1.] with initial lambda -10 to (array([-0.74833549,  0.66332043]), array([-0.21232494]))\n",
      "|||super successful|||.  after 500 iterations we got from [1. 1.] with initial lambda -5 to (array([-0.74833549,  0.66332043]), array([-0.21232494]))\n",
      "|||super successful|||.  after 500 iterations we got from [1. 1.] with initial lambda -1 to (array([-0.74833549,  0.66332043]), array([-0.21232494]))\n",
      "|||super successful|||.  after 500 iterations we got from [1. 1.] with initial lambda -0.1 to (array([-0.74833549,  0.66332043]), array([-0.21232494]))\n",
      "|||super successful|||.  after 500 iterations we got from [1. 1.] with initial lambda 0 to (array([-0.74833549,  0.66332043]), array([-0.21232494]))\n",
      "|||super successful|||.  after 500 iterations we got from [1. 1.] with initial lambda 0.1 to (array([-0.74833549,  0.66332043]), array([-0.21232494]))\n",
      "|||super successful|||.  after 500 iterations we got from [1. 1.] with initial lambda 1 to (array([-0.74833549,  0.66332043]), array([-0.21232494]))\n",
      "|||super successful|||.  after 500 iterations we got from [1. 1.] with initial lambda 5 to (array([-0.74833549,  0.66332043]), array([-0.21232494]))\n",
      "|||super successful|||.  after 500 iterations we got from [1. 1.] with initial lambda 10 to (array([-0.74833549,  0.66332043]), array([-0.21232494]))\n",
      "|||super successful|||.  after 500 iterations we got from [1.8 1.8] with initial lambda -10 to (array([-0.74833549,  0.66332043]), array([-0.21232494]))\n",
      "|||super successful|||.  after 500 iterations we got from [1.8 1.8] with initial lambda -5 to (array([-0.74833549,  0.66332043]), array([-0.21232494]))\n",
      "|||super successful|||.  after 500 iterations we got from [1.8 1.8] with initial lambda -1 to (array([-0.74833549,  0.66332043]), array([-0.21232494]))\n",
      "|||super successful|||.  after 500 iterations we got from [1.8 1.8] with initial lambda -0.1 to (array([-0.74833549,  0.66332043]), array([-0.21232494]))\n",
      "|||super successful|||.  after 500 iterations we got from [1.8 1.8] with initial lambda 0 to (array([-0.74833549,  0.66332043]), array([-0.21232494]))\n",
      "|||super successful|||.  after 500 iterations we got from [1.8 1.8] with initial lambda 0.1 to (array([-0.74833549,  0.66332043]), array([-0.21232494]))\n",
      "|||super successful|||.  after 500 iterations we got from [1.8 1.8] with initial lambda 1 to (array([-0.74833549,  0.66332043]), array([-0.21232494]))\n",
      "|||super successful|||.  after 500 iterations we got from [1.8 1.8] with initial lambda 5 to (array([-0.74833549,  0.66332043]), array([-0.21232494]))\n",
      "|||super successful|||.  after 500 iterations we got from [1.8 1.8] with initial lambda 10 to (array([-0.74833549,  0.66332043]), array([-0.21232494]))\n",
      "     failed     .  after 500 iterations we got from [1.85 1.85] with initial lambda -10 to (array([ 714.85160233, -144.08647901]), array([-2.56471199e+238]))\n",
      "     failed     .  after 500 iterations we got from [1.85 1.85] with initial lambda -5 to (array([1744.34038878,  -32.34835971]), array([-3.0196389e+46]))\n",
      "     failed     .  after 500 iterations we got from [1.85 1.85] with initial lambda -1 to (array([ 0.01434523, -0.9998971 ]), array([109.16259756]))\n",
      "|||super successful|||.  after 500 iterations we got from [1.85 1.85] with initial lambda -0.1 to (array([-0.74833549,  0.66332043]), array([-0.21232494]))\n",
      "     failed     .  after 500 iterations we got from [1.85 1.85] with initial lambda 0 to (array([254.14425753, -71.03588537]), array([-1.87911524e+105]))\n",
      "     failed     .  after 500 iterations we got from [1.85 1.85] with initial lambda 0.1 to (array([2277.61647745, -110.9472272 ]), array([-2.04858857e+38]))\n",
      "     failed     .  after 500 iterations we got from [1.85 1.85] with initial lambda 1 to (array([ 0.91041323, -0.41370006]), array([25.2938552]))\n",
      "|||super successful|||.  after 500 iterations we got from [1.85 1.85] with initial lambda 5 to (array([-0.74833549,  0.66332043]), array([-0.21232494]))\n",
      "|||super successful|||.  after 500 iterations we got from [1.85 1.85] with initial lambda 10 to (array([-0.74833549,  0.66332043]), array([-0.21232494]))\n",
      "     failed     .  after 500 iterations we got from [5. 5.] with initial lambda -10 to (array([  206.44458824, -1054.76417785]), array([-2.5977013e+164]))\n",
      "     failed     .  after 500 iterations we got from [5. 5.] with initial lambda -5 to (array([ 0.91041323, -0.41370006]), array([25.2938552]))\n",
      "     failed     .  after 500 iterations we got from [5. 5.] with initial lambda -1 to (array([313.95207744, -16.41689793]), array([-1.87766341e+13]))\n",
      "     failed     .  after 500 iterations we got from [5. 5.] with initial lambda -0.1 to (array([ 126.64710301, -207.16524592]), array([-3.00131669e+106]))\n",
      "     failed     .  after 500 iterations we got from [5. 5.] with initial lambda 0 to (array([ 220.40247962, -384.99740887]), array([-9.21763276e+168]))\n",
      "     failed     .  after 500 iterations we got from [5. 5.] with initial lambda 0.1 to (array([623.23731992, -93.0476743 ]), array([-2.34202108e+151]))\n",
      "     failed     .  after 500 iterations we got from [5. 5.] with initial lambda 1 to (array([ 519.03574877, -107.26239211]), array([-7.78300377e+128]))\n",
      "     failed     .  after 500 iterations we got from [5. 5.] with initial lambda 5 to (array([ 168.72191345, -223.32085277]), array([-1.1397251e+49]))\n",
      "     failed     .  after 500 iterations we got from [5. 5.] with initial lambda 10 to (array([ 0.91041323, -0.41370006]), array([25.2938552]))\n"
     ]
    }
   ],
   "source": [
    "#some intuitively chosen startpoints\n",
    "intuitiveX = [[0,0], [0.05,0.05], [-1,1], [-10,10], [-100, 100], [1,-1], [10,-10], [100, -100], [1,1], [1.8, 1.8], [1.85, 1.85], [5,5], [-1,-1], [-1.8, -1.8], [-1.85, -1.85], [-5, -5]]\n",
    "randomX = np.random.uniform(-100, 100, (20,2))          #some random points\n",
    "startX = np.append(randomX, intuitiveX, axis=0)\n",
    "startL = [-10, -5, -1, -0.1, 0, 0.1, 1, 5, 10]\n",
    "startingPoints = [[-np.array(x), l] for x in startX for l in startL]\n",
    "steps = 500\n",
    "x_optimal = np.array([-0.74834, 0.66332])\n",
    "lamb_optimal = -0.21233\n",
    "\n",
    "\n",
    "for x,lamb in startingPoints:\n",
    "    reached = \"     failed     \"\n",
    "    x_reach, lamb_reach = optimise(x, lamb, gradf, hessianf, h, gradh, hessianh, steps)\n",
    "    if np.linalg.norm(x_reach-x_optimal) < 1e-5:\n",
    "        reached = \"'''successful'''\"\n",
    "        if np.linalg.norm(lamb_reach-lamb_optimal) < 1e-4:\n",
    "            reached = \"|||super successful|||\"\n",
    "    print(f\"{reached}.  after {steps} iterations we got from {x} with initial lambda {lamb} to {x_reach, lamb_reach}\")\n"
   ],
   "metadata": {
    "collapsed": false,
    "pycharm": {
     "name": "#%%\n"
    }
   }
  },
  {
   "cell_type": "markdown",
   "source": [
    "What we can observe is, that with starting points,r that have the same signs as the optimal point the newton like approach has no problem to converge to the optimal solution.\n",
    "If the signs are changed the behaviour changes drastically.\n",
    "For starting points with the same sign it seems like we converge until somewhere in the interval $\\pm [0.5, 1.85]$\n",
    "The choice of the initial lambda seems to only matter in the border region of the convergence area, but we can't really determine a pattern in that.\n",
    "To conclude: Minus Plus is handled well, Plus Minus is okay, same sign is only in some region well handled"
   ],
   "metadata": {
    "collapsed": false,
    "pycharm": {
     "name": "#%% md\n"
    }
   }
  },
  {
   "cell_type": "code",
   "execution_count": 18,
   "outputs": [
    {
     "name": "stdout",
     "output_type": "stream",
     "text": [
      "|||super successful|||.  after 500 iterations we got from [ 0.90927292 96.70620254] with initial lambda 10 to (array([-0.74833549,  0.66332043]), array([-0.21232494])).  Distance:4.534001547404924e-06\n",
      "     failed     .  after 500 iterations we got from [  7.9003086  -14.26412433] with initial lambda 10 to (array([ 0.01434523, -0.9998971 ]), array([109.16259756])).  Distance:1.829748586656503\n",
      "     failed     .  after 500 iterations we got from [83.89993268 49.98909658] with initial lambda 10 to (array([2653.69659182, -120.03881577]), array([-7.48038694e+156])).  Distance:2657.1877806486614\n",
      "|||super successful|||.  after 500 iterations we got from [-1.77267454 19.47635788] with initial lambda 10 to (array([-0.74833549,  0.66332043]), array([-0.21232494])).  Distance:4.534001547515435e-06\n",
      "|||super successful|||.  after 500 iterations we got from [-35.66594606  70.77626538] with initial lambda 10 to (array([-0.74833549,  0.66332043]), array([-0.21232494])).  Distance:4.534001547515435e-06\n",
      "|||super successful|||.  after 500 iterations we got from [-48.06524546  34.73730522] with initial lambda 10 to (array([-0.74833549,  0.66332043]), array([-0.21232494])).  Distance:4.534001547404924e-06\n",
      "     failed     .  after 500 iterations we got from [87.27047721  1.40994007] with initial lambda 10 to (array([   86.93714387, -2679.18052627]), array([-1955.26475678])).  Distance:2681.278013271949\n",
      "|||super successful|||.  after 500 iterations we got from [-92.78055928   6.53848317] with initial lambda 10 to (array([-0.74833549,  0.66332043]), array([-0.21232494])).  Distance:4.534001547515435e-06\n",
      "|||super successful|||.  after 500 iterations we got from [-19.32658155  70.9891119 ] with initial lambda 10 to (array([-0.74833549,  0.66332043]), array([-0.21232494])).  Distance:4.534001547404924e-06\n",
      "|||super successful|||.  after 500 iterations we got from [-26.88673036  32.57621667] with initial lambda 10 to (array([-0.74833549,  0.66332043]), array([-0.21232494])).  Distance:4.53400154739428e-06\n",
      "     failed     .  after 500 iterations we got from [24.75958156 18.21398363] with initial lambda 10 to (array([ 0.01434523, -0.9998971 ]), array([109.16259756])).  Distance:1.829748586656503\n",
      "     failed     .  after 500 iterations we got from [80.63364754 31.11554291] with initial lambda 10 to (array([485.19529769, -87.54044262]), array([-1.29685513e+107])).  Distance:493.8837137969999\n",
      "|||super successful|||.  after 500 iterations we got from [-62.70545774  77.23060389] with initial lambda 10 to (array([-0.74833549,  0.66332043]), array([-0.21232494])).  Distance:4.534001547404924e-06\n",
      "|||super successful|||.  after 500 iterations we got from [-32.06701655  82.38335227] with initial lambda 10 to (array([-0.74833549,  0.66332043]), array([-0.21232494])).  Distance:4.534001547404924e-06\n",
      "     failed     .  after 500 iterations we got from [11.57540939 79.86193702] with initial lambda 10 to (array([ 0.99498259, -0.10004825]), array([29.82786165])).  Distance:1.903130243014267\n",
      "     failed     .  after 500 iterations we got from [ -9.4546535  -43.29111303] with initial lambda 10 to (array([ 277.38176312, -144.98032316]), array([-1.39690079e+150])).  Distance:313.95608778304745\n",
      "     failed     .  after 500 iterations we got from [ 87.43515185 -80.23073594] with initial lambda 10 to (array([248.78632722, -78.73073594]), array([-1.16970448e+117])).  Distance:261.8605855471267\n",
      "     failed     .  after 500 iterations we got from [ 52.53844235 -68.49722489] with initial lambda 10 to (array([ 0.91041323, -0.41370006]), array([25.2938552])).  Distance:1.9777346917460152\n",
      "|||super successful|||.  after 500 iterations we got from [-82.8365411   79.01690688] with initial lambda 10 to (array([-0.74833549,  0.66332043]), array([-0.21232494])).  Distance:4.53400154739428e-06\n",
      "     failed     .  after 500 iterations we got from [-68.62929614 -60.82297175] with initial lambda 10 to (array([ 232.81057564, -318.55602177]), array([-1.0914894e+191])).  Distance:395.5385635227682\n",
      "     failed     .  after 500 iterations we got from [0. 0.] with initial lambda 10 to (array([0., 0.]), -1).  Distance:1.0000030889952292\n",
      "     failed     .  after 500 iterations we got from [0.05 0.05] with initial lambda 10 to (array([ 0.91041323, -0.41370006]), array([25.2938552])).  Distance:1.9777346917460152\n",
      "|||super successful|||.  after 500 iterations we got from [-1.  1.] with initial lambda 10 to (array([-0.74833549,  0.66332043]), array([-0.21232494])).  Distance:4.53400154739428e-06\n",
      "|||super successful|||.  after 500 iterations we got from [-10.  10.] with initial lambda 10 to (array([-0.74833549,  0.66332043]), array([-0.21232494])).  Distance:4.53400154739428e-06\n",
      "|||super successful|||.  after 500 iterations we got from [-100.  100.] with initial lambda 10 to (array([-0.74833549,  0.66332043]), array([-0.21232494])).  Distance:4.534001547515435e-06\n",
      "     failed     .  after 500 iterations we got from [ 1. -1.] with initial lambda 10 to (array([ 0.91041323, -0.41370006]), array([25.2938552])).  Distance:1.9777346917460152\n",
      "|||super successful|||.  after 500 iterations we got from [ 10. -10.] with initial lambda 10 to (array([-0.74833549,  0.66332043]), array([-0.21232494])).  Distance:4.534001547515435e-06\n",
      "     failed     .  after 500 iterations we got from [ 100. -100.] with initial lambda 10 to (array([ 176.18968369, -241.95308482]), array([-3.77526209e+224])).  Distance:300.28284019220837\n",
      "|||super successful|||.  after 500 iterations we got from [1. 1.] with initial lambda 10 to (array([-0.74833549,  0.66332043]), array([-0.21232494])).  Distance:4.53400154739428e-06\n",
      "|||super successful|||.  after 500 iterations we got from [1.8 1.8] with initial lambda 10 to (array([-0.74833549,  0.66332043]), array([-0.21232494])).  Distance:4.53400154739428e-06\n",
      "     failed     .  after 500 iterations we got from [1.85 1.85] with initial lambda 10 to (array([ 0.01434523, -0.9998971 ]), array([109.16259756])).  Distance:1.829748586656503\n",
      "     failed     .  after 500 iterations we got from [5. 5.] with initial lambda 10 to (array([313.95207744, -16.41689793]), array([-1.87766341e+13])).  Distance:315.16358701997234\n",
      "|||super successful|||.  after 500 iterations we got from [-1. -1.] with initial lambda 10 to (array([-0.74833549,  0.66332043]), array([-0.21232494])).  Distance:4.534001547515435e-06\n",
      "     failed     .  after 500 iterations we got from [-1.8 -1.8] with initial lambda 10 to (array([ 0.91041323, -0.41370006]), array([25.2938552])).  Distance:1.9777346917460152\n",
      "     failed     .  after 500 iterations we got from [-1.85 -1.85] with initial lambda 10 to (array([ 0.99498259, -0.10004825]), array([29.82786165])).  Distance:1.903130243014267\n",
      "     failed     .  after 500 iterations we got from [-5. -5.] with initial lambda 10 to (array([629.15599358, -63.26315874]), array([-4.81720291e+81])).  Distance:633.1398456515751\n"
     ]
    }
   ],
   "source": [
    "#for comparision\n",
    "for x in startX:\n",
    "    reached = \"     failed     \"\n",
    "    x_reach, lamb_reach = optimise(x, -1, gradf, hessianf, h, gradh, hessianh, steps)\n",
    "    if np.linalg.norm(x_reach-x_optimal) < 1e-5:\n",
    "        reached = \"'''successful'''\"\n",
    "        if np.linalg.norm(lamb_reach-lamb_optimal) < 1e-4:\n",
    "            reached = \"|||super successful|||\"\n",
    "    print(f\"{reached}.  after {steps} iterations we got from {x} with initial lambda {lamb} to {x_reach, lamb_reach}.  Distance:{np.linalg.norm(x_reach-x_optimal)}\")"
   ],
   "metadata": {
    "collapsed": false,
    "pycharm": {
     "name": "#%%\n"
    }
   }
  },
  {
   "cell_type": "markdown",
   "source": [
    "With a constant lambda we can see, that espacially for the randomly generated points the Newton like method performs poorly as expected."
   ],
   "metadata": {
    "collapsed": false,
    "pycharm": {
     "name": "#%% md\n"
    }
   }
  },
  {
   "cell_type": "markdown",
   "source": [
    "#### Ex3\n",
    "Merit function\n",
    "$\\\\$\n",
    "$M(x_1,x_2) = f(x_1,x_2)+ρh(x_1,x_2)^2$"
   ],
   "metadata": {
    "collapsed": false,
    "pycharm": {
     "name": "#%% md\n"
    }
   }
  },
  {
   "cell_type": "code",
   "execution_count": 29,
   "outputs": [],
   "source": [
    "def grd_M(x):\n",
    "    g= np.array([3*math.e**(3*x[0])+40*x[0]**3+40*x[0]*x[1]**2-40*x[0], -4*math.e**(-4*x[1])+40*x[1]**3+40*x[1]*x[0]**2-40*x[1]])\n",
    "    return g\n",
    "\n",
    "def grad_desc(x,a=0.01):\n",
    "    g = grd_M(x)\n",
    "    normed = g/np.linalg.norm(g)\n",
    "    return x-a*normed\n",
    "\n",
    "\n",
    "def meritOptimise(start, grd_M, steps, step=0.01):\n",
    "    x = start\n",
    "    for c in range(steps):\n",
    "        x = grad_desc(x, step)\n",
    "        if np.linalg.norm(grd_M(x)) < 1e-2:\n",
    "            print(f\"exited after {c} iterations with gradient {grd_M(x)}\")\n",
    "            break\n",
    "\n",
    "    return x"
   ],
   "metadata": {
    "collapsed": false,
    "pycharm": {
     "name": "#%%\n"
    }
   }
  },
  {
   "cell_type": "code",
   "execution_count": 30,
   "outputs": [
    {
     "name": "stdout",
     "output_type": "stream",
     "text": [
      "'''successful'''.  We got from [ 0.90927292 96.70620254] to [-0.75028816  0.66464703]. Distance:0.0023571885458530443\n",
      "'''successful'''.  We got from [  7.9003086  -14.26412433] to [-0.75062321  0.66494398]. Distance:0.0028018496067556274\n",
      "'''successful'''.  We got from [83.89993268 49.98909658] to [-0.75398634  0.66792919]. Distance:0.00728874698359742\n",
      "'''successful'''.  We got from [-1.77267454 19.47635788] to [-0.7466029   0.66137461]. Distance:0.002608075809316768\n",
      "|||super successful|||.  We got from [-35.66594606  70.77626538] to [-0.74866171  0.66320421]. Distance:0.0003419152253067709\n",
      "|||super successful|||.  We got from [-48.06524546  34.73730522] to [-0.74865349  0.66319691]. Distance:0.00033678909774926446\n",
      "'''successful'''.  We got from [87.27047721  1.40994007] to [-0.7502794   0.66463926]. Distance:0.002345575543294348\n",
      "'''successful'''.  We got from [-92.78055928   6.53848317] to [-0.75314571  0.6671811 ]. Distance:0.006164649284228727\n",
      "'''successful'''.  We got from [-19.32658155  70.9891119 ] to [-0.74648833  0.66127268]. Distance:0.0027604688106853585\n",
      "|||super successful|||.  We got from [-26.88673036  32.57621667] to [-0.7486617  0.6632042]. Distance:0.00034190569142012253\n",
      "'''successful'''.  We got from [24.75958156 18.21398363] to [-0.75430132  0.66820933]. Distance:0.007709921584425463\n",
      "'''successful'''.  We got from [80.63364754 31.11554291] to [-0.75881615  0.67221545]. Distance:0.013743312071272563\n",
      "|||super successful|||.  We got from [-62.70545774  77.23060389] to [-0.74866173  0.66320423]. Distance:0.00034192635403543285\n",
      "|||super successful|||.  We got from [-32.06701655  82.38335227] to [-0.74839672  0.66296893]. Distance:0.0003556253881447877\n",
      "'''successful'''.  We got from [11.57540939 79.86193702] to [-0.74660924  0.66138025]. Distance:0.0025996448742293854\n",
      "'''successful'''.  We got from [ -9.4546535  -43.29111303] to [-0.75159751  0.66580694]. Distance:0.004098322346850303\n",
      "'''successful'''.  We got from [ 87.43515185 -80.23073594] to [-0.75793434  0.67143436]. Distance:0.012565595970181717\n",
      "'''successful'''.  We got from [ 52.53844235 -68.49722489] to [-0.75840103  0.67184783]. Distance:0.013188943501023882\n",
      "|||super successful|||.  We got from [-82.8365411   79.01690688] to [-0.74840232  0.6629739 ]. Distance:0.0003516672102623892\n",
      "'''successful'''.  We got from [-68.62929614 -60.82297175] to [-0.74572223  0.66059087]. Distance:0.0037816492165591137\n",
      "|||super successful|||.  We got from [0. 0.] to [-0.74866079  0.66320339]. Distance:0.0003413273904335193\n",
      "'''successful'''.  We got from [0.05 0.05] to [-0.75407543  0.66800843]. Distance:0.007407869722020509\n",
      "'''successful'''.  We got from [-1.  1.] to [-0.75638656  0.67006178]. Distance:0.010497557048317195\n",
      "|||super successful|||.  We got from [-10.  10.] to [-0.74908359  0.66357867]. Distance:0.0007872962271616039\n",
      "|||super successful|||.  We got from [-100.  100.] to [-0.74894821  0.66345852]. Distance:0.0006237834970249255\n",
      "'''successful'''.  We got from [ 1. -1.] to [-0.75405333  0.66798877]. Distance:0.0073783189851004925\n",
      "'''successful'''.  We got from [ 10. -10.] to [-0.75736209  0.67092712]. Distance:0.01180111547769332\n",
      "     failed     .  We got from [ 100. -100.] to [ 100. -100.]. Distance:142.41956328460637\n",
      "'''successful'''.  We got from [1. 1.] to [-0.75712526  0.67071712]. Distance:0.01148469584313417\n",
      "'''successful'''.  We got from [1.8 1.8] to [-0.75042998  0.66477273]. Distance:0.0025452787397671566\n",
      "'''successful'''.  We got from [1.85 1.85] to [-0.74639137  0.66118642]. Distance:0.002889513047272093\n",
      "'''successful'''.  We got from [5. 5.] to [-0.75121972  0.66547242]. Distance:0.0035952349631053733\n",
      "'''successful'''.  We got from [-1. -1.] to [-0.75361014  0.66759448]. Distance:0.006785689600111132\n",
      "|||super successful|||.  We got from [-1.8 -1.8] to [-0.7484318   0.66300008]. Distance:0.00033283383367432363\n",
      "'''successful'''.  We got from [-1.85 -1.85] to [-0.75336264  0.66737421]. Distance:0.00645473311276351\n",
      "'''successful'''.  We got from [-5. -5.] to [-0.74697989  0.6617099 ]. Distance:0.002107687107145429\n"
     ]
    }
   ],
   "source": [
    "\n",
    "# test\n",
    "for x in startX:\n",
    "    reached = \"     failed     \"\n",
    "    x_reach = meritOptimise(x, grd_M, 50000)\n",
    "    if np.linalg.norm(x_reach-x_optimal) < 5e-2:\n",
    "        reached = \"'''successful'''\"\n",
    "        if np.linalg.norm(x_reach-x_optimal) < 1e-3:\n",
    "            reached = \"|||super successful|||\"\n",
    "    print(f\"{reached}.  We got from {x} to {x_reach}. Distance:{np.linalg.norm(x_reach-x_optimal)}\")"
   ],
   "metadata": {
    "collapsed": false,
    "pycharm": {
     "name": "#%%\n"
    }
   }
  },
  {
   "cell_type": "markdown",
   "source": [
    "As we can see, we are getting pretty close on a lot(more then the Newton like Method before) of solutions and on some of them even pretty close. But in general not as close as with the Newton Method. So the Merit Optimiser can be used to get an approximate result but not the most correct one, although it works in many more cases than the newton method."
   ],
   "metadata": {
    "collapsed": false,
    "pycharm": {
     "name": "#%% md\n"
    }
   }
  },
  {
   "cell_type": "markdown",
   "source": [
    "#### Ex4\n",
    "Let's combine both methods and use the strength of both in order to achieve the best possible results"
   ],
   "metadata": {
    "collapsed": false,
    "pycharm": {
     "name": "#%% md\n"
    }
   }
  },
  {
   "cell_type": "code",
   "execution_count": 24,
   "outputs": [
    {
     "name": "stdout",
     "output_type": "stream",
     "text": [
      "[-0.70205996  0.62232015] (array([-0.74833549,  0.66332043]), array([-0.21232494]))\n"
     ]
    }
   ],
   "source": [
    "def combinedMethod(x_start, lamb_start, rho, gradf, hessianf, h, gradh, hessianh, steps_Newton=100, steps_Merit=5000, stepsize=0.1):\n",
    "    grd_M = lambda x: gradf(x) + 2*rho*gradh(x)\n",
    "    x_merit = meritOptimise(x_start, grd_M, steps_Merit, stepsize)\n",
    "\n",
    "    x_end = optimise(x_merit, lamb_start, gradf, hessianf, h, gradh, hessianh, steps_Newton)\n",
    "    return x_merit, x_end\n",
    "\n",
    "#test how far can we go\n",
    "x_1, x_2 = combinedMethod(np.array([-50, 100]), 5, 10, gradf, hessianf, h, gradh, hessianh)\n",
    "print(x_1, x_2)"
   ],
   "metadata": {
    "collapsed": false,
    "pycharm": {
     "name": "#%%\n"
    }
   }
  },
  {
   "cell_type": "markdown",
   "source": [
    "In order to get the best results we decided to first use the merit optimiser so that we will get a good enough starting point and then use the newton descent method to get us the best possible result. We decided to use 5000 maximum steps for the Merit Optimiser and then just 100 steps for the Newton Optimiser.\n",
    "\n",
    "$(-0.70205996 , 0.62232015)$  are the results from the Merit Optimiser. We can see that it's very close to the wanted result. This is a very good starting point for the newton method. In the end, by using both methods we could achieve the expected results of   $(-0.74833549,  0.66332043)$  ."
   ],
   "metadata": {
    "collapsed": false,
    "pycharm": {
     "name": "#%% md\n"
    }
   }
  },
  {
   "cell_type": "code",
   "execution_count": 21,
   "outputs": [
    {
     "name": "stdout",
     "output_type": "stream",
     "text": [
      "[-0.74833549  0.66332043]\n",
      "|||super successful|||.  We got from [ 0.90927292 96.70620254] to [-0.74833549  0.66332043].  Distance:4.53400154739428e-06\n",
      "[-0.74833549  0.66332043]\n",
      "|||super successful|||.  We got from [  7.9003086  -14.26412433] to [-0.74833549  0.66332043].  Distance:4.534001547515435e-06\n",
      "[-0.74833549  0.66332043]\n",
      "|||super successful|||.  We got from [83.89993268 49.98909658] to [-0.74833549  0.66332043].  Distance:4.53400154739428e-06\n",
      "[-0.74833549  0.66332043]\n",
      "|||super successful|||.  We got from [-1.77267454 19.47635788] to [-0.74833549  0.66332043].  Distance:4.53400154739428e-06\n",
      "[-0.74833549  0.66332043]\n",
      "|||super successful|||.  We got from [-35.66594606  70.77626538] to [-0.74833549  0.66332043].  Distance:4.53400154739428e-06\n",
      "[-0.74833549  0.66332043]\n",
      "|||super successful|||.  We got from [-48.06524546  34.73730522] to [-0.74833549  0.66332043].  Distance:4.534001547404924e-06\n",
      "[-0.74833549  0.66332043]\n",
      "|||super successful|||.  We got from [87.27047721  1.40994007] to [-0.74833549  0.66332043].  Distance:4.534001547515435e-06\n",
      "[-0.74833549  0.66332043]\n",
      "|||super successful|||.  We got from [-92.78055928   6.53848317] to [-0.74833549  0.66332043].  Distance:4.53400154739428e-06\n",
      "[-0.74833549  0.66332043]\n",
      "|||super successful|||.  We got from [-19.32658155  70.9891119 ] to [-0.74833549  0.66332043].  Distance:4.534001547515435e-06\n",
      "[-0.74833549  0.66332043]\n",
      "|||super successful|||.  We got from [-26.88673036  32.57621667] to [-0.74833549  0.66332043].  Distance:4.534001547515435e-06\n",
      "[-0.74833549  0.66332043]\n",
      "|||super successful|||.  We got from [24.75958156 18.21398363] to [-0.74833549  0.66332043].  Distance:4.53400154739428e-06\n",
      "[-0.74833549  0.66332043]\n",
      "|||super successful|||.  We got from [80.63364754 31.11554291] to [-0.74833549  0.66332043].  Distance:4.534001547404924e-06\n",
      "[-0.74833549  0.66332043]\n",
      "|||super successful|||.  We got from [-62.70545774  77.23060389] to [-0.74833549  0.66332043].  Distance:4.534001547404924e-06\n",
      "[-0.74833549  0.66332043]\n",
      "|||super successful|||.  We got from [-32.06701655  82.38335227] to [-0.74833549  0.66332043].  Distance:4.534001547515435e-06\n",
      "[-0.74833549  0.66332043]\n",
      "|||super successful|||.  We got from [11.57540939 79.86193702] to [-0.74833549  0.66332043].  Distance:4.53400154739428e-06\n",
      "[-0.74833549  0.66332043]\n",
      "|||super successful|||.  We got from [ -9.4546535  -43.29111303] to [-0.74833549  0.66332043].  Distance:4.534001547515435e-06\n",
      "[-0.74833549  0.66332043]\n",
      "|||super successful|||.  We got from [ 87.43515185 -80.23073594] to [-0.74833549  0.66332043].  Distance:4.534001547515435e-06\n",
      "[-0.74833549  0.66332043]\n",
      "|||super successful|||.  We got from [ 52.53844235 -68.49722489] to [-0.74833549  0.66332043].  Distance:4.534001547515435e-06\n",
      "[-0.74833549  0.66332043]\n",
      "|||super successful|||.  We got from [-82.8365411   79.01690688] to [-0.74833549  0.66332043].  Distance:4.534001547515435e-06\n",
      "[-0.74833549  0.66332043]\n",
      "|||super successful|||.  We got from [-68.62929614 -60.82297175] to [-0.74833549  0.66332043].  Distance:4.53400154739428e-06\n",
      "[-0.74833549  0.66332043]\n",
      "|||super successful|||.  We got from [0. 0.] to [-0.74833549  0.66332043].  Distance:4.534001547404924e-06\n",
      "[-0.74833549  0.66332043]\n",
      "|||super successful|||.  We got from [0.05 0.05] to [-0.74833549  0.66332043].  Distance:4.534001547515435e-06\n",
      "[-0.74833549  0.66332043]\n",
      "|||super successful|||.  We got from [-1.  1.] to [-0.74833549  0.66332043].  Distance:4.534001547404924e-06\n",
      "[-0.74833549  0.66332043]\n",
      "|||super successful|||.  We got from [-10.  10.] to [-0.74833549  0.66332043].  Distance:4.53400154739428e-06\n",
      "[-0.74833549  0.66332043]\n",
      "|||super successful|||.  We got from [-100.  100.] to [-0.74833549  0.66332043].  Distance:4.534001547515435e-06\n",
      "[-0.74833549  0.66332043]\n",
      "|||super successful|||.  We got from [ 1. -1.] to [-0.74833549  0.66332043].  Distance:4.53400154739428e-06\n",
      "[-0.74833549  0.66332043]\n",
      "|||super successful|||.  We got from [ 10. -10.] to [-0.74833549  0.66332043].  Distance:4.53400154739428e-06\n",
      "[ 176.18968369 -241.95308482]\n",
      "     failed     .  We got from [ 100. -100.] to [ 176.18968369 -241.95308482].  Distance:300.28284019220837\n",
      "[-0.74833549  0.66332043]\n",
      "|||super successful|||.  We got from [1. 1.] to [-0.74833549  0.66332043].  Distance:4.53400154739428e-06\n",
      "[-0.74833549  0.66332043]\n",
      "|||super successful|||.  We got from [1.8 1.8] to [-0.74833549  0.66332043].  Distance:4.53400154739428e-06\n",
      "[-0.74833549  0.66332043]\n",
      "|||super successful|||.  We got from [1.85 1.85] to [-0.74833549  0.66332043].  Distance:4.53400154739428e-06\n",
      "[-0.74833549  0.66332043]\n",
      "|||super successful|||.  We got from [5. 5.] to [-0.74833549  0.66332043].  Distance:4.534001547404924e-06\n",
      "[-0.74833549  0.66332043]\n",
      "|||super successful|||.  We got from [-1. -1.] to [-0.74833549  0.66332043].  Distance:4.534001547515435e-06\n",
      "[-0.74833549  0.66332043]\n",
      "|||super successful|||.  We got from [-1.8 -1.8] to [-0.74833549  0.66332043].  Distance:4.534001547515435e-06\n",
      "[-0.74833549  0.66332043]\n",
      "|||super successful|||.  We got from [-1.85 -1.85] to [-0.74833549  0.66332043].  Distance:4.534001547515435e-06\n",
      "[-0.74833549  0.66332043]\n",
      "|||super successful|||.  We got from [-5. -5.] to [-0.74833549  0.66332043].  Distance:4.534001547404924e-06\n"
     ]
    }
   ],
   "source": [
    "#test on all starting points\n",
    "for x in startX:\n",
    "    reached = \"     failed     \"\n",
    "    x_merit, [x_reach, lamb_reach] = combinedMethod(x, 1, 10, gradf, hessianf, h, gradh, hessianh)\n",
    "    print(x_reach)\n",
    "    if np.linalg.norm(x_reach-x_optimal) < 5e-5:\n",
    "        reached = \"'''successful'''\"\n",
    "        if np.linalg.norm(x_reach-x_optimal) < 1e-5:\n",
    "            reached = \"|||super successful|||\"\n",
    "    print(f\"{reached}.  We got from {x} to {x_reach}.  Distance:{np.linalg.norm(x_reach-x_optimal)}\")\n"
   ],
   "metadata": {
    "collapsed": false,
    "pycharm": {
     "name": "#%%\n"
    }
   }
  },
  {
   "cell_type": "markdown",
   "source": [
    "As expected combining both methods leads to even better results, because we reach the proximity of the solution by minimizing the merit function and can converge to the optimal solution very fast afterwards by using the Newton-like Method.\n",
    "But there are some points which neither of the methods can't handle, for example $x_0=(100, -100)$\n"
   ],
   "metadata": {
    "collapsed": false,
    "pycharm": {
     "name": "#%% md\n"
    }
   }
  }
 ],
 "metadata": {
  "kernelspec": {
   "display_name": "Python 3",
   "language": "python",
   "name": "python3"
  },
  "language_info": {
   "codemirror_mode": {
    "name": "ipython",
    "version": 2
   },
   "file_extension": ".py",
   "mimetype": "text/x-python",
   "name": "python",
   "nbconvert_exporter": "python",
   "pygments_lexer": "ipython2",
   "version": "2.7.6"
  }
 },
 "nbformat": 4,
 "nbformat_minor": 0
}