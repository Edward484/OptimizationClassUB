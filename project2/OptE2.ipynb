{
 "cells": [
  {
   "cell_type": "code",
   "execution_count": 1,
   "metadata": {
    "pycharm": {
     "name": "#%%\n"
    }
   },
   "outputs": [],
   "source": [
    "import numpy as np\n",
    "\n",
    "\n",
    "\n",
    "def gradStep(x, grad, stepSize):\n",
    "    return x - stepSize*grad(x)\n",
    "\n",
    "\n",
    "# in general\n",
    "def descAlgs(x, step, direction):\n",
    "    return x - step * direction\n",
    "\n",
    "def NewtonStep(x, grad, Hessian, stepSize):\n",
    "    return x - stepSize * np.linalg.inv(Hessian(x)) @ grad(x)"
   ]
  },
  {
   "cell_type": "code",
   "execution_count": 20,
   "metadata": {
    "pycharm": {
     "name": "#%%\n"
    }
   },
   "outputs": [
    {
     "name": "stdout",
     "output_type": "stream",
     "text": [
      "[1.00000000e+02 9.11437576e-87]\n",
      "[2.e-323 2.e-323]\n"
     ]
    }
   ],
   "source": [
    "steps = 10000\n",
    "stepSize = 0.01\n",
    "x0 = np.array([100,50])\n",
    "\n",
    "def f(x):\n",
    "    return 100*x[0]**2+x[1]**2\n",
    "\n",
    "def gradF(x):\n",
    "    return np.array([200*x[0], 2*x[1]])\n",
    "\n",
    "def HessianF(x):\n",
    "    return np.array([[200, 0], [0, 2]])\n",
    "x = x0\n",
    "for i in range(steps):\n",
    "    x = gradStep(x, gradF, stepSize)\n",
    "\n",
    "print(x)\n",
    "stepSize = 0.1\n",
    "x = x0\n",
    "for i in range(steps):\n",
    "    x = NewtonStep(x, gradF, HessianF, stepSize)\n",
    "\n",
    "print(x)"
   ]
  }
 ],
 "metadata": {
  "kernelspec": {
   "display_name": "Python 3.9.4 ('venvImageAnalysis')",
   "language": "python",
   "name": "python3"
  },
  "language_info": {
   "codemirror_mode": {
    "name": "ipython",
    "version": 3
   },
   "file_extension": ".py",
   "mimetype": "text/x-python",
   "name": "python",
   "nbconvert_exporter": "python",
   "pygments_lexer": "ipython3",
   "version": "3.9.4"
  },
  "orig_nbformat": 4,
  "vscode": {
   "interpreter": {
    "hash": "a06515681512fc178df9613ebcde2bf60466cc77f44b95f4543b0be5f741a4dd"
   }
  }
 },
 "nbformat": 4,
 "nbformat_minor": 2
}