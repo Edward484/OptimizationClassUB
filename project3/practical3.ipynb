{
  "cells": [
    {
      "cell_type": "markdown",
      "metadata": {
        "id": "-_DYKDDa7bw4"
      },
      "source": [
        "## Robust linear regression\n",
        "#### Nils Lennier Mattiß, Federica Valeau, Eduard Mihai\n",
        "#### 2.1\n",
        "From the following plot we can notice how different are the least square function and the Cauchy function. The first one gives much more importance to the errors while the second one is more robust."
      ]
    },
    {
      "cell_type": "code",
      "execution_count": 1,
      "metadata": {
        "id": "VffTO9Av7bxD"
      },
      "outputs": [],
      "source": [
        "import numpy as np\n",
        "import matplotlib.pyplot as plt"
      ]
    },
    {
      "cell_type": "code",
      "execution_count": 2,
      "metadata": {
        "colab": {
          "base_uri": "https://localhost:8080/",
          "height": 265
        },
        "id": "sBKUMtcl7bxH",
        "outputId": "85a7fdfc-fd8e-4075-df4b-360cb6a164f1"
      },
      "outputs": [
        {
          "output_type": "display_data",
          "data": {
            "text/plain": [
              "<Figure size 432x288 with 1 Axes>"
            ],
            "image/png": "[encoded data removed]"
          },
          "metadata": {
            "needs_background": "light"
          }
        }
      ],
      "source": [
        "def LS(x):\n",
        "    return 0.5*x**2\n",
        "\n",
        "def cauchy(x):\n",
        "    return 0.5* np.log(1+x**2)\n",
        "\n",
        "x = np.linspace(-10, 10, 1000)\n",
        "plt.plot(x, LS(x), label='LS')\n",
        "plt.plot(x, cauchy(x), label='Cauchy')\n",
        "plt.legend()\n",
        "plt.show()\n"
      ]
    },
    {
      "cell_type": "markdown",
      "metadata": {
        "id": "u0fp8w-P7bxJ"
      },
      "source": [
        "#### 2.2\n",
        "Now we will find the weights using the Cauchy error function (with c = 1) and by backtracking.\n",
        "\n",
        "$ Q = \\frac{1}{2} \\sum_{i=i}^m \\log [1+(\\hat{y_i}-y_i)^2] =  \\frac{1}{2} \\sum_{i=i}^m \\log [1+(w_0 x_i+w_1-y_i)^2]$\n",
        "\n",
        "And the partial derivatives will be:\n",
        "\n",
        "$ \\frac{\\partial Q}{\\partial w_0} = \\sum_{i=1}^m \\frac{(w_0 x_i+w_1-y_i)x_i}{1+(w_0 x_i+w_1-y_i)^2} \\\\\n",
        "\\frac{\\partial Q}{\\partial w_1} = \\sum_{i=1}^m \\frac{(w_0 x_i+w_1-y_i)}{1+(w_0 x_i+w_1-y_i)^2} \\\\\n",
        "\\nabla Q(w) = \\Big(\\frac{\\partial Q}{\\partial w_0}, \\frac{\\partial Q}{\\partial w_1} \\Big)$\n",
        "\n",
        "The weights will be estimated by the backtraking algorithm\n",
        "\n",
        "$ w^{k+1} = w^k - \\alpha^k \\nabla Q(W) $"
      ]
    },
    {
      "cell_type": "code",
      "execution_count": 9,
      "metadata": {
        "id": "VxjCkplc7bxK"
      },
      "outputs": [],
      "source": [
        "import numpy as np\n",
        "import math\n",
        "\n",
        "m = [0.,0.]\n",
        "angle = 45*math.pi/180\n",
        "rot = np.array([[math.cos(angle), -math.sin(angle)], [math.sin(angle),\n",
        "math.cos(angle)]])\n",
        "lamb = np.array([[100,0],[0,1]])\n",
        "s = np.matmul(rot, np.matmul(lamb, rot.transpose()))\n",
        "points = np.random.multivariate_normal(m,s,100)"
      ]
    },
    {
      "cell_type": "code",
      "execution_count": 15,
      "metadata": {
        "colab": {
          "base_uri": "https://localhost:8080/"
        },
        "id": "kmQBXr3u7bxM",
        "outputId": "9541a2ac-4fbf-4580-98ae-2352dfe60a67"
      },
      "outputs": [
        {
          "output_type": "stream",
          "name": "stdout",
          "text": [
            "[ 0.97087375 -0.23831015]\n"
          ]
        }
      ],
      "source": [
        "# First attempt\n",
        "\n",
        "def grad(x):\n",
        "    dw0 = []\n",
        "    dw1 = []\n",
        "    for i in range(len(points)):\n",
        "        dw0.append(points[i, 0]*(x[0]*points[i, 0]+x[1]-points[i, 1])/(1+(x[0]*points[i, 0]+x[1]-points[i, 1])**2))\n",
        "        dw1.append((x[0]*points[i, 0]+x[1]-points[i, 1])/(1+(x[0]*points[i, 0]+x[1]-points[i, 1])**2))\n",
        "        #dw0.append(points[i, 0]*(x[0]*points[i, 0]+x[1]-points[i, 1]))\n",
        "        #dw1.append((x[0]*points[i, 0]+x[1]-points[i, 1]))\n",
        "    return np.array([np.sum(dw0), np.sum(dw1)])\n",
        "\n",
        "def grad_descent(W, alpha, w_his):\n",
        "  #print(w_his)\n",
        "  for i in range(1000):\n",
        "      gr = grad(W)\n",
        "      W = np.subtract(W, np.multiply(alpha, grad(W)))\n",
        "      #print(grad(W), W)\n",
        "      w_his.append(W)\n",
        "      diffs = W[0]*points[:,0]+W[1]-points[:,1]\n",
        "      #print(np.sum(cauchy(diffs)))\n",
        "  return w_his\n",
        "\n",
        "a = grad_descent([0,0], 0.001, [])\n",
        "print(a[-1])"
      ]
    },
    {
      "cell_type": "code",
      "execution_count": 18,
      "metadata": {
        "colab": {
          "base_uri": "https://localhost:8080/"
        },
        "id": "B-Xs05-l7bxP",
        "outputId": "2f330b48-150c-49de-db26-6333a2e006ee"
      },
      "outputs": [
        {
          "output_type": "stream",
          "name": "stdout",
          "text": [
            "[3.45841549 0.16004083] 707\n"
          ]
        }
      ],
      "source": [
        "# Second attempt\n",
        "\n",
        "def gradf_2(W,X):\n",
        "    y= []\n",
        "    y_hat = []\n",
        "    for point in X:\n",
        "        predict = W[0]*point[0]+W[1]\n",
        "        y_hat.append(predict)\n",
        "        y.append(point[1])\n",
        "    y = np.array(y)\n",
        "    y_hat = np.array(y_hat)\n",
        "    differences = np.subtract(y_hat, y)\n",
        "    w0 = np.multiply(differences,X[:,0])\n",
        "    diff_squared = np.multiply(differences, differences)\n",
        "    DD = np.array([ np.sum(np.divide(w0, diff_squared+1)),np.sum(np.divide(differences, 1+diff_squared))])\n",
        "    return DD\n",
        "\n",
        "\n",
        "def back_prop(W,X,w_history,alpha = 0.01,iter=0):\n",
        "    w_history.append(W)\n",
        "    DD = gradf_2(W,X)\n",
        "    W = np.subtract(W,np.multiply(alpha ,DD))\n",
        "    #print(DD)\n",
        "  \n",
        "    if abs(DD[0]) < 0.0001:\n",
        "        w_history.append(W)\n",
        "        return [len(w_history)-1, w_history]\n",
        "    else:\n",
        "        W = np.subtract(W,np.multiply(alpha ,DD))\n",
        "        if iter>705:\n",
        "            w_history.append(W)\n",
        "            return [len(w_history)-1, w_history]\n",
        "        else:\n",
        "            res = back_prop(W,X, w_history,iter=iter+1)\n",
        "\n",
        "    return res\n",
        "\n",
        "itera, w_h = back_prop(np.array([0, 0]), points, [])\n",
        "print(w_h[-1], itera)"
      ]
    }
  ],
  "metadata": {
    "kernelspec": {
      "display_name": "Python 3.10.8 64-bit (microsoft store)",
      "language": "python",
      "name": "python3"
    },
    "language_info": {
      "codemirror_mode": {
        "name": "ipython",
        "version": 3
      },
      "file_extension": ".py",
      "mimetype": "text/x-python",
      "name": "python",
      "nbconvert_exporter": "python",
      "pygments_lexer": "ipython3",
      "version": "3.10.8"
    },
    "orig_nbformat": 4,
    "vscode": {
      "interpreter": {
        "hash": "bcceb03242fefd5b72eeb01faa1eb0835982cc34b3662a1315524542a267acfa"
      }
    },
    "colab": {
      "provenance": []
    }
  },
  "nbformat": 4,
  "nbformat_minor": 0
}